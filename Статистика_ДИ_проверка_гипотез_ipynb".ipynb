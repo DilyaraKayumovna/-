{
  "nbformat": 4,
  "nbformat_minor": 0,
  "metadata": {
    "kernelspec": {
      "display_name": "Python 3",
      "language": "python",
      "name": "python3"
    },
    "language_info": {
      "codemirror_mode": {
        "name": "ipython",
        "version": 3
      },
      "file_extension": ".py",
      "mimetype": "text/x-python",
      "name": "python",
      "nbconvert_exporter": "python",
      "pygments_lexer": "ipython3",
      "version": "3.8.5"
    },
    "toc": {
      "base_numbering": 1,
      "nav_menu": {},
      "number_sections": true,
      "sideBar": true,
      "skip_h1_title": false,
      "title_cell": "Table of Contents",
      "title_sidebar": "Contents",
      "toc_cell": false,
      "toc_position": {},
      "toc_section_display": true,
      "toc_window_display": false
    },
    "colab": {
      "name": "Статистика_ДИ_проверка_гипотез.ipynb\"",
      "provenance": [],
      "include_colab_link": true
    }
  },
  "cells": [
    {
      "cell_type": "markdown",
      "metadata": {
        "id": "view-in-github",
        "colab_type": "text"
      },
      "source": [
        "<a href=\"https://colab.research.google.com/github/DilyaraKayumovna/-/blob/main/%D0%A1%D1%82%D0%B0%D1%82%D0%B8%D1%81%D1%82%D0%B8%D0%BA%D0%B0_%D0%94%D0%98_%D0%BF%D1%80%D0%BE%D0%B2%D0%B5%D1%80%D0%BA%D0%B0_%D0%B3%D0%B8%D0%BF%D0%BE%D1%82%D0%B5%D0%B7_ipynb%22.ipynb\" target=\"_parent\"><img src=\"https://colab.research.google.com/assets/colab-badge.svg\" alt=\"Open In Colab\"/></a>"
      ]
    },
    {
      "cell_type": "markdown",
      "metadata": {
        "id": "2iSDKG9IKpbB"
      },
      "source": [
        "# Задания для самостоятельного решения\n"
      ]
    },
    {
      "cell_type": "markdown",
      "metadata": {
        "id": "hG0a80CkKpbB"
      },
      "source": [
        "<div class=\"alert alert-info\">\n",
        "<b>Задание № 0</b>\n",
        "\n",
        "Найдите минимально необходимый объем выборки для построения интервальной оценки среднего.\n",
        "\n",
        "- желаемая точность $\\Delta$ = 3;\n",
        "- дисперсия $\\sigma^2$  = 225;\n",
        "- уровень доверия $\\beta$ = 0.95.\n",
        "    \n",
        "Ответ округлите до целого\n",
        "</div>"
      ]
    },
    {
      "cell_type": "code",
      "metadata": {
        "id": "MZLnLTl7I_qa"
      },
      "source": [
        "delta = 3\n",
        "dispersia = 225\n",
        "sigma = 15\n",
        "beta = 0.95"
      ],
      "execution_count": null,
      "outputs": []
    },
    {
      "cell_type": "code",
      "metadata": {
        "id": "Gmu6xcpGKpbC",
        "colab": {
          "base_uri": "https://localhost:8080/"
        },
        "outputId": "fb709fd0-b4d8-415c-faa6-090665765727"
      },
      "source": [
        "alpha = 1 - beta  #нашли уровень значимости\n",
        "alpha"
      ],
      "execution_count": null,
      "outputs": [
        {
          "output_type": "execute_result",
          "data": {
            "text/plain": [
              "0.050000000000000044"
            ]
          },
          "metadata": {},
          "execution_count": 7
        }
      ]
    },
    {
      "cell_type": "code",
      "metadata": {
        "colab": {
          "base_uri": "https://localhost:8080/"
        },
        "id": "7h5_mNYcKEba",
        "outputId": "d9bc665a-5d16-46fa-f4a3-7ace5fa19429"
      },
      "source": [
        "# нашли квантиль нормального распределения уровня\n",
        "1 - alpha / 2"
      ],
      "execution_count": null,
      "outputs": [
        {
          "output_type": "execute_result",
          "data": {
            "text/plain": [
              "0.975"
            ]
          },
          "metadata": {},
          "execution_count": 8
        }
      ]
    },
    {
      "cell_type": "code",
      "metadata": {
        "id": "nIURGKn7tjZe"
      },
      "source": [
        "Z = 2.241 #нашли по таблице для двусторонней области"
      ],
      "execution_count": null,
      "outputs": []
    },
    {
      "cell_type": "code",
      "metadata": {
        "id": "W5g4DhusKpbC",
        "colab": {
          "base_uri": "https://localhost:8080/"
        },
        "outputId": "5969983f-0f34-4dd9-9211-5df726313eac"
      },
      "source": [
        "n = int(((sigma * Z) / delta)**2)\n",
        "n"
      ],
      "execution_count": null,
      "outputs": [
        {
          "output_type": "execute_result",
          "data": {
            "text/plain": [
              "125"
            ]
          },
          "metadata": {},
          "execution_count": 10
        }
      ]
    },
    {
      "cell_type": "code",
      "metadata": {
        "id": "RDsK500iOKiA"
      },
      "source": [
        ""
      ],
      "execution_count": null,
      "outputs": []
    },
    {
      "cell_type": "markdown",
      "metadata": {
        "id": "XKith_mzKpbC"
      },
      "source": [
        "<div class=\"alert alert-info\">\n",
        "<b>Задание № 1</b>\n",
        "\n",
        "Постройте `98% доверительный интервал` для среднего значения, если известно, что\n",
        "\n",
        "- объем выборки n = 25;\n",
        "- среднее значение по выборке $\\overline x$ = 130;\n",
        "- Из достоверных источников известно стандартное отклонение $\\sigma = 15$.\n",
        "    \n",
        "В ответ укажите длину полученного доверительного интервала (разницу между правым и левым концом), окруленную до целого\n",
        "</div>"
      ]
    },
    {
      "cell_type": "code",
      "metadata": {
        "id": "kB8NrkVxOQ_b"
      },
      "source": [
        "n = 25\n",
        "x_mean = 130\n",
        "sigma = 15\n",
        "alpha = 0.02"
      ],
      "execution_count": null,
      "outputs": []
    },
    {
      "cell_type": "code",
      "metadata": {
        "colab": {
          "base_uri": "https://localhost:8080/"
        },
        "id": "JFOVYnRft-_m",
        "outputId": "dd8a8e04-f5bf-4164-f052-3eda7660fb7b"
      },
      "source": [
        "1 - alpha/2"
      ],
      "execution_count": null,
      "outputs": [
        {
          "output_type": "execute_result",
          "data": {
            "text/plain": [
              "0.99"
            ]
          },
          "metadata": {},
          "execution_count": 12
        }
      ]
    },
    {
      "cell_type": "code",
      "metadata": {
        "id": "iRHOuZr2PPK4"
      },
      "source": [
        "Z = 2.576"
      ],
      "execution_count": null,
      "outputs": []
    },
    {
      "cell_type": "code",
      "metadata": {
        "id": "CTgXcz3QKpbD",
        "colab": {
          "base_uri": "https://localhost:8080/"
        },
        "outputId": "e40b2922-7276-464c-e8a5-5abc685b1dc1"
      },
      "source": [
        "delta = (sigma * Z) / n ** 0.5\n",
        "delta"
      ],
      "execution_count": null,
      "outputs": [
        {
          "output_type": "execute_result",
          "data": {
            "text/plain": [
              "7.728"
            ]
          },
          "metadata": {},
          "execution_count": 14
        }
      ]
    },
    {
      "cell_type": "code",
      "metadata": {
        "colab": {
          "base_uri": "https://localhost:8080/"
        },
        "id": "xrJfTZCYRoKF",
        "outputId": "5509f39b-0ab4-4add-f422-203384d5b2ca"
      },
      "source": [
        "L = int((x_mean + delta) - (x_mean - delta))\n",
        "L"
      ],
      "execution_count": null,
      "outputs": [
        {
          "output_type": "execute_result",
          "data": {
            "text/plain": [
              "15"
            ]
          },
          "metadata": {},
          "execution_count": 15
        }
      ]
    },
    {
      "cell_type": "code",
      "metadata": {
        "id": "0K_Don9ZKpbD"
      },
      "source": [
        " "
      ],
      "execution_count": null,
      "outputs": []
    },
    {
      "cell_type": "markdown",
      "metadata": {
        "id": "2DhU-DGiKpbD"
      },
      "source": [
        "### 2. Вам даны две выборки роста мужчин и женщин. Докажите, используя t-Тест Стьдента, что различия между выборками незначительно, если уровень значимости равен 0.001"
      ]
    },
    {
      "cell_type": "markdown",
      "metadata": {
        "id": "kxXGsFBRKpbD"
      },
      "source": [
        "<div class=\"alert alert-info\">\n",
        "<b>Задание № 2</b>\n",
        "\n",
        "Даны две выборки роста мужчин и женщин. \n",
        "- Докажите, используя `t-Тест Стьдента`, что различие между выборками незначительно, если уровень значимости равен $\\alpha$ `= 0.001`.\n",
        "- Покажите различия визуально\n",
        "</div>"
      ]
    },
    {
      "cell_type": "code",
      "metadata": {
        "id": "FJKk03xvS9hY"
      },
      "source": [
        "import numpy as np\n",
        "import matplotlib.pyplot as plt"
      ],
      "execution_count": null,
      "outputs": []
    },
    {
      "cell_type": "code",
      "metadata": {
        "id": "zqCCRE8yKpbE"
      },
      "source": [
        "import scipy.stats as stats\n",
        "np.random.seed(42) #фиксация случайности\n",
        "\n",
        "mens  = stats.norm.rvs(loc=171, scale=100, size=150000)  # Выборка мужчин со средним ростом 171\n",
        "womens = stats.norm.rvs(loc=170, scale=100, size=150000)  # Выборка женщин со средним ростом 170\n",
        "#В двух строчках выше генерируется две выбороки, где loc это среднее значение, а scale это дисперсия"
      ],
      "execution_count": null,
      "outputs": []
    },
    {
      "cell_type": "code",
      "metadata": {
        "colab": {
          "base_uri": "https://localhost:8080/"
        },
        "id": "gMtKqWPFTCzf",
        "outputId": "70ad25f8-64fa-4b6e-b16c-13d9a34e55b9"
      },
      "source": [
        "t, p_value = stats.ttest_ind(mens, womens) # считаем Критерий Стьюдента (t-test)\n",
        "t, p_value"
      ],
      "execution_count": null,
      "outputs": [
        {
          "output_type": "execute_result",
          "data": {
            "text/plain": [
              "(3.6635841716708892, 0.00024875321033580573)"
            ]
          },
          "metadata": {},
          "execution_count": 18
        }
      ]
    },
    {
      "cell_type": "code",
      "metadata": {
        "colab": {
          "base_uri": "https://localhost:8080/",
          "height": 265
        },
        "id": "TI2B0tdmUNSG",
        "outputId": "66d398a4-6347-4e8f-f8cb-c36907024632"
      },
      "source": [
        "plt.hist(mens, bins=25); #Выборка A\n",
        "plt.hist(womens, bins=25);  #Выборка B"
      ],
      "execution_count": null,
      "outputs": [
        {
          "output_type": "display_data",
          "data": {
            "image/png": "[encoded data removed]",
            "text/plain": [
              "<Figure size 432x288 with 1 Axes>"
            ]
          },
          "metadata": {
            "needs_background": "light"
          }
        }
      ]
    },
    {
      "cell_type": "code",
      "metadata": {
        "id": "qOtjB0crTCto"
      },
      "source": [
        "#значение p_value = 0,0002, что меньше уровня значимости (0,001), следовательно,\n",
        "#отвергаем нулевую гипотезу о том, что нет различий. Но по графику различия не сильно выражены"
      ],
      "execution_count": null,
      "outputs": []
    },
    {
      "cell_type": "code",
      "metadata": {
        "id": "y20bouvFWnuo"
      },
      "source": [
        ""
      ],
      "execution_count": null,
      "outputs": []
    },
    {
      "cell_type": "markdown",
      "metadata": {
        "id": "b9onOJ9-KpbE"
      },
      "source": [
        "### 3. Определите объем необходимой выборки для исследования среднего чека за кофе в случайном городе, если известно, что в этом городе стандартное отклонение = 150, уровень доверия = 95%. Погрешность 50 рублей. "
      ]
    },
    {
      "cell_type": "markdown",
      "metadata": {
        "id": "X9XwnBNTKpbE"
      },
      "source": [
        "<div class=\"alert alert-info\">\n",
        "<b>Задание № 3</b>\n",
        "\n",
        "Определите объем необходимой выборки для исследования среднего чека за кофе в случайном городе если известно, что в этом городе:\n",
        "\n",
        "- стандартное отклонение $\\sigma = 150$;\n",
        "- уровень доверия $\\beta$  = 95%;\n",
        "- Погрешность $\\Delta = 50$ рублей.\n",
        "</div>"
      ]
    },
    {
      "cell_type": "code",
      "metadata": {
        "id": "f2hGpE2yKpbE"
      },
      "source": [
        "sigma = 150\n",
        "beta = 0.95\n",
        "delta = 50"
      ],
      "execution_count": null,
      "outputs": []
    },
    {
      "cell_type": "code",
      "metadata": {
        "colab": {
          "base_uri": "https://localhost:8080/"
        },
        "id": "8aGnxUVKW5Xl",
        "outputId": "9ee07c65-3622-46b8-fab5-72f765b8d951"
      },
      "source": [
        "alpha = 1 - beta \n",
        "alpha"
      ],
      "execution_count": null,
      "outputs": [
        {
          "output_type": "execute_result",
          "data": {
            "text/plain": [
              "0.050000000000000044"
            ]
          },
          "metadata": {},
          "execution_count": 17
        }
      ]
    },
    {
      "cell_type": "code",
      "metadata": {
        "colab": {
          "base_uri": "https://localhost:8080/"
        },
        "id": "CuEj9kAJuZyz",
        "outputId": "6a078d3f-a04f-406e-9bd8-91936396523f"
      },
      "source": [
        "1 - alpha/2"
      ],
      "execution_count": null,
      "outputs": [
        {
          "output_type": "execute_result",
          "data": {
            "text/plain": [
              "0.99"
            ]
          },
          "metadata": {},
          "execution_count": 21
        }
      ]
    },
    {
      "cell_type": "code",
      "metadata": {
        "id": "Qee3Dp3pa5No"
      },
      "source": [
        "Z = 2.576"
      ],
      "execution_count": null,
      "outputs": []
    },
    {
      "cell_type": "code",
      "metadata": {
        "colab": {
          "base_uri": "https://localhost:8080/"
        },
        "id": "mvYaD0iYXKDI",
        "outputId": "1970ee28-afd8-4a29-8ea3-3d26488f8464"
      },
      "source": [
        "n = int(((sigma * Z) / delta)**2)\n",
        "n"
      ],
      "execution_count": null,
      "outputs": [
        {
          "output_type": "execute_result",
          "data": {
            "text/plain": [
              "59"
            ]
          },
          "metadata": {},
          "execution_count": 23
        }
      ]
    },
    {
      "cell_type": "code",
      "metadata": {
        "id": "iVN6BJrgXcQZ"
      },
      "source": [
        ""
      ],
      "execution_count": null,
      "outputs": []
    },
    {
      "cell_type": "markdown",
      "metadata": {
        "id": "PfJAPG0wKpbF"
      },
      "source": [
        "<div class=\"alert alert-info\">\n",
        "<b>Задание № 4</b>\n",
        "\n",
        "Представьте, что вы хотите разоблачить \"волшебника\" который считает, что умеет предсказывать погоду на завтра, отвечая просто: дождь или солнце. Вы пронаблюдали за ответами \"волшебника\" в течении какого-то периода времени и получили некие результаты (см.ниже).\n",
        "\n",
        "Можно ли сказать, что маг действительно умеет предсказывать погоду? Уровень значимости принять за `0.05` ($\\alpha=0.05$).\n",
        "</div>"
      ]
    },
    {
      "cell_type": "code",
      "metadata": {
        "id": "EJziYJuSXhEs"
      },
      "source": [
        "import pandas as pd"
      ],
      "execution_count": null,
      "outputs": []
    },
    {
      "cell_type": "code",
      "metadata": {
        "id": "yie2TUk9KpbF",
        "colab": {
          "base_uri": "https://localhost:8080/",
          "height": 112
        },
        "outputId": "74867c3e-9df5-4fb6-a840-354f8b58e558"
      },
      "source": [
        "observations = pd.DataFrame([[10, 15],[39, 34]],\n",
        "                            index=['Дождь','Солнце'],\n",
        "                            columns=['Верные ответы волшебника','Неверные ответы'])\n",
        "observations"
      ],
      "execution_count": null,
      "outputs": [
        {
          "output_type": "execute_result",
          "data": {
            "text/html": [
              "<div>\n",
              "<style scoped>\n",
              "    .dataframe tbody tr th:only-of-type {\n",
              "        vertical-align: middle;\n",
              "    }\n",
              "\n",
              "    .dataframe tbody tr th {\n",
              "        vertical-align: top;\n",
              "    }\n",
              "\n",
              "    .dataframe thead th {\n",
              "        text-align: right;\n",
              "    }\n",
              "</style>\n",
              "<table border=\"1\" class=\"dataframe\">\n",
              "  <thead>\n",
              "    <tr style=\"text-align: right;\">\n",
              "      <th></th>\n",
              "      <th>Верные ответы волшебника</th>\n",
              "      <th>Неверные ответы</th>\n",
              "    </tr>\n",
              "  </thead>\n",
              "  <tbody>\n",
              "    <tr>\n",
              "      <th>Дождь</th>\n",
              "      <td>10</td>\n",
              "      <td>15</td>\n",
              "    </tr>\n",
              "    <tr>\n",
              "      <th>Солнце</th>\n",
              "      <td>39</td>\n",
              "      <td>34</td>\n",
              "    </tr>\n",
              "  </tbody>\n",
              "</table>\n",
              "</div>"
            ],
            "text/plain": [
              "        Верные ответы волшебника  Неверные ответы\n",
              "Дождь                         10               15\n",
              "Солнце                        39               34"
            ]
          },
          "metadata": {},
          "execution_count": 25
        }
      ]
    },
    {
      "cell_type": "code",
      "metadata": {
        "id": "ayFB7JsTKpbF",
        "colab": {
          "base_uri": "https://localhost:8080/"
        },
        "outputId": "b40920b0-e0a6-4348-c12c-a951b8861361"
      },
      "source": [
        "import scipy.stats as stats\n",
        "\n",
        "oddsratio, pvalue = stats.fisher_exact(observations) #тест Фишера\n",
        "oddsratio, pvalue\n"
      ],
      "execution_count": null,
      "outputs": [
        {
          "output_type": "execute_result",
          "data": {
            "text/plain": [
              "(0.5811965811965812, 0.35417955365927367)"
            ]
          },
          "metadata": {},
          "execution_count": 26
        }
      ]
    },
    {
      "cell_type": "code",
      "metadata": {
        "id": "7Jxy2VCqYIMi"
      },
      "source": [
        "# pvalue=0,35, что больше уровня значимости (0,05), значит, нулевую гипотезу нельзя отвергнуть (события случайны)\n",
        "# маг не умеет предсказывать погоду"
      ],
      "execution_count": null,
      "outputs": []
    },
    {
      "cell_type": "code",
      "metadata": {
        "id": "Xz37D9KWY-Yi"
      },
      "source": [
        ""
      ],
      "execution_count": null,
      "outputs": []
    },
    {
      "cell_type": "markdown",
      "metadata": {
        "id": "m_PBTkbMKpbF"
      },
      "source": [
        "<div class=\"alert alert-info\">\n",
        "<b>Задание № 5</b> \n",
        "\n",
        "Используя функцию mean_confidence_interval(data, confidence), постройте доверительный интервал с уровнем доверия $\\beta = 90\\%$ для выборки:\n",
        "\n",
        "</div>"
      ]
    },
    {
      "cell_type": "code",
      "metadata": {
        "id": "EKGmwYabKpbG"
      },
      "source": [
        "data = [4,5,8,9,6,7,5,6,7,8,5,6,7,0,9,8,4,6,\n",
        "        7,9,8,6,5,7,8,9,6,7,5,8,6,7,9,5,10]\n"
      ],
      "execution_count": null,
      "outputs": []
    },
    {
      "cell_type": "code",
      "metadata": {
        "id": "pWaFKFHPZA8Q"
      },
      "source": [
        "def mean_confidence_interval(data, confidence=0.95):\n",
        "    n = len(data)\n",
        "    m, se = np.mean(data), stats.sem(data)\n",
        "    h = se * stats.t.ppf((1 + confidence)/2, n)  \n",
        "    return m-h, m, m+h "
      ],
      "execution_count": null,
      "outputs": []
    },
    {
      "cell_type": "code",
      "metadata": {
        "colab": {
          "base_uri": "https://localhost:8080/"
        },
        "id": "zq5l3vOKZA4Z",
        "outputId": "16d80f1d-56a2-4c9a-dde8-fa3c70d0c22e"
      },
      "source": [
        "print(mean_confidence_interval(data, 0.90))"
      ],
      "execution_count": null,
      "outputs": [
        {
          "output_type": "stream",
          "name": "stdout",
          "text": [
            "(6.074074746111319, 6.628571428571429, 7.183068111031539)\n"
          ]
        }
      ]
    },
    {
      "cell_type": "code",
      "metadata": {
        "id": "rbR9bk0fZqr7"
      },
      "source": [
        ""
      ],
      "execution_count": null,
      "outputs": []
    },
    {
      "cell_type": "markdown",
      "metadata": {
        "id": "Ba85cpYEKpbG"
      },
      "source": [
        "<div class=\"alert alert-info\">\n",
        "<b>Задание № 6</b>\n",
        "\n",
        "Принадлежат ли выборки `A` и `B` одному множеству? \n",
        "    \n",
        "- Оцените это с помощью известных вам тестов для проверок статистических гипотез;\n",
        "- Покажите различия визуально.\n",
        "</div>"
      ]
    },
    {
      "cell_type": "code",
      "metadata": {
        "id": "7uheHE4CKpbG"
      },
      "source": [
        "A = [4,5,8,9,6,7,5,6,7,6,8,5,6,7,8,4,\n",
        "    6,7,9,8,6,5,7,8,6,7,5,6,8,6,7,5,\n",
        "    4,5,8,9,6,7,5,6,7,6,8,5,6,7,8,4,\n",
        "    6,7,9,8,6,5,7,8,6,7,5,6,8,6,7,5,\n",
        "    4,5,8,9,6,7,5,6,7,6,8,5,6,7,8,4,\n",
        "    6,7,9,8,6,5,7,8,6,7,5,6,8,6,7,5,\n",
        "    4,5,8,9,6,7,5,6,7,6,8,5,6,7,8,4]\n",
        "\n",
        "B = [5,6,7,8,4,6,7,2,6,5,7,5,3,5,3,\n",
        "    5,3,5,5,8,7,6,4,5,3,5,4,6,4,5,3,\n",
        "    2,6,4,3,5,4,3,4,5,4,3,4,5,4,3,4,\n",
        "    2,6,4,3,5,4,3,4,5,4,3,4,5,4,3,4,\n",
        "    3,4,4,1,2,4,3,2,4,3,2,1,5,3,4,6,\n",
        "    3,2,4,5,6,4,3,3,5,3,4,4,4,2,5,3]\n",
        " "
      ],
      "execution_count": null,
      "outputs": []
    },
    {
      "cell_type": "code",
      "metadata": {
        "colab": {
          "base_uri": "https://localhost:8080/"
        },
        "id": "gsdlPlwyZ9UE",
        "outputId": "a12cb05e-67c6-4697-e647-36de3c53ac9b"
      },
      "source": [
        "tvalue, pvalue = stats.ttest_ind(A, B)\n",
        "print('t_value:',tvalue, '_pvalue: ',pvalue)"
      ],
      "execution_count": null,
      "outputs": [
        {
          "output_type": "stream",
          "name": "stdout",
          "text": [
            "t_value: 11.865233896372924 _pvalue:  4.623319592204015e-25\n"
          ]
        }
      ]
    },
    {
      "cell_type": "code",
      "metadata": {
        "colab": {
          "base_uri": "https://localhost:8080/",
          "height": 265
        },
        "id": "NQfXpV5Z0Mja",
        "outputId": "fe5a93e2-a680-4c41-9003-7289166a8990"
      },
      "source": [
        "plt.hist(B, bins=15);\n",
        "plt.hist(A, bins=15);"
      ],
      "execution_count": null,
      "outputs": [
        {
          "output_type": "display_data",
          "data": {
            "image/png": "[encoded data removed]",
            "text/plain": [
              "<Figure size 432x288 with 1 Axes>"
            ]
          },
          "metadata": {
            "needs_background": "light"
          }
        }
      ]
    },
    {
      "cell_type": "code",
      "metadata": {
        "id": "R6cVA45i0Ryl"
      },
      "source": [
        "# по графику видно, что выборки различны.\n",
        "# pvalue очень низкое, значит, выборки различны"
      ],
      "execution_count": null,
      "outputs": []
    },
    {
      "cell_type": "code",
      "metadata": {
        "id": "BKRVd4eU0M9O"
      },
      "source": [
        ""
      ],
      "execution_count": null,
      "outputs": []
    },
    {
      "cell_type": "markdown",
      "metadata": {
        "id": "Wqu7jW4YKpbH"
      },
      "source": [
        "<div class=\"alert alert-info\">\n",
        "<b>Задание № 7 (задание без подвоха)</b>\n",
        "\n",
        "На примере датасета про жилье в New York City, мы сталкивались с примером, когда переменная имеет не совсем нормальное распределение. \n",
        "\n",
        "- Предположим, Вы сформировали две гипотезы:\n",
        "    - нулевая гипотеза - распределение нормальное;\n",
        "    - альтернативная гипотеза - распределение ненормальное.\n",
        "- допустим, вы применили какой-то тест (сейчас неважно какой), который показал уровень значимости  `p-value = 0.03`. Каковы будут ваши выводы? Будем считать что у нас нормальное распределение или все-таки нет?)\n",
        "    \n",
        "</div>"
      ]
    },
    {
      "cell_type": "code",
      "metadata": {
        "id": "wfnlt1qIKpbH"
      },
      "source": [
        "# p-value меньше 0,05, значит, отвергаем нулевую гипотезу о том, что распределение нормальное. \n",
        "# вывод: распределение Ненормальное"
      ],
      "execution_count": null,
      "outputs": []
    },
    {
      "cell_type": "code",
      "metadata": {
        "id": "osmcixIb2Wnk"
      },
      "source": [
        ""
      ],
      "execution_count": null,
      "outputs": []
    },
    {
      "cell_type": "markdown",
      "metadata": {
        "id": "DvxmPwzdKpbH"
      },
      "source": [
        "<div class=\"alert alert-info\">\n",
        "<b>Задание № 8</b>\n",
        "    \n",
        "Первая выборка — это пациенты, которых лечили препаратом `А`.  Вторая выборка — пациенты, которых лечили препаратом `B`.\n",
        "\n",
        "Значения в выборках — это некоторая характеристика эффективности лечения (уровень метаболита в крови, температура через три дня после начала лечения, срок выздоровления, число койко-дней, и т.д.) \n",
        "\n",
        "- Требуется выяснить, имеется ли значимое различие эффективности препаратов `А` и `B`, или различия являются чисто случайными и объясняются «естественной» дисперсией выбранной характеристики?  (`уровень значимости принять за 0.05 (5%)`)\n",
        "\n",
        "- При каком минимальном p-value различия были бы уже значимы? \n",
        "    \n",
        "- Если выборки незначительно отличаются, то продемонстрируйте это визуально\n",
        "</div>"
      ]
    },
    {
      "cell_type": "code",
      "metadata": {
        "id": "gKLvDsMwKpbI"
      },
      "source": [
        "np.random.seed(11)\n",
        "A = stats.norm.rvs(scale=15, loc=169, size=300)\n",
        "B = stats.norm.rvs(scale=14, loc=171.4, size=300)\n",
        "\n",
        "### Ваш код:\n",
        "# Подсказка, обратите внимание на Two-sample T-test"
      ],
      "execution_count": null,
      "outputs": []
    },
    {
      "cell_type": "code",
      "metadata": {
        "id": "IknmVyAWKpbJ",
        "colab": {
          "base_uri": "https://localhost:8080/"
        },
        "outputId": "49699bed-55ed-403b-a9da-1e1ec5402687"
      },
      "source": [
        " t, p_value = stats.ttest_ind(A, B) \n",
        "t, p_value"
      ],
      "execution_count": null,
      "outputs": [
        {
          "output_type": "execute_result",
          "data": {
            "text/plain": [
              "(-1.95300880485141, 0.051284593140469285)"
            ]
          },
          "metadata": {},
          "execution_count": 34
        }
      ]
    },
    {
      "cell_type": "code",
      "metadata": {
        "id": "_QahEzPUKpbJ",
        "colab": {
          "base_uri": "https://localhost:8080/",
          "height": 265
        },
        "outputId": "e098ae4c-033e-4e90-fc74-a71a3d993581"
      },
      "source": [
        "plt.hist(B, bins=15);\n",
        "plt.hist(A, bins=15);"
      ],
      "execution_count": null,
      "outputs": [
        {
          "output_type": "display_data",
          "data": {
            "image/png": "[encoded data removed]",
            "text/plain": [
              "<Figure size 432x288 with 1 Axes>"
            ]
          },
          "metadata": {
            "needs_background": "light"
          }
        }
      ]
    },
    {
      "cell_type": "code",
      "metadata": {
        "id": "x9W4vdqoKpbJ"
      },
      "source": [
        "# pvalue=0,051, что больше уровня значимости (0,05), следовательно, эффективность препаратов случайна\n",
        "# при pvalue<0,05(минимум 0,04), различия были бы значимы"
      ],
      "execution_count": null,
      "outputs": []
    }
  ]
}