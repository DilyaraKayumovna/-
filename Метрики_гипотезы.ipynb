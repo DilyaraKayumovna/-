{
  "nbformat": 4,
  "nbformat_minor": 0,
  "metadata": {
    "colab": {
      "name": "Метрики_гипотезы.ipynb",
      "provenance": [],
      "authorship_tag": "ABX9TyP2XY9KA1AVgy6xzQvoBdVg",
      "include_colab_link": true
    },
    "kernelspec": {
      "name": "python3",
      "display_name": "Python 3"
    },
    "language_info": {
      "name": "python"
    }
  },
  "cells": [
    {
      "cell_type": "markdown",
      "metadata": {
        "id": "view-in-github",
        "colab_type": "text"
      },
      "source": [
        "<a href=\"https://colab.research.google.com/github/DilyaraKayumovna/-/blob/main/%D0%9C%D0%B5%D1%82%D1%80%D0%B8%D0%BA%D0%B8_%D0%B3%D0%B8%D0%BF%D0%BE%D1%82%D0%B5%D0%B7%D1%8B.ipynb\" target=\"_parent\"><img src=\"https://colab.research.google.com/assets/colab-badge.svg\" alt=\"Open In Colab\"/></a>"
      ]
    },
    {
      "cell_type": "markdown",
      "metadata": {
        "id": "nCQrh13ssrw8"
      },
      "source": [
        "Задача: ознакомиться с данными и составить аналитический отчёт."
      ]
    },
    {
      "cell_type": "code",
      "metadata": {
        "id": "Td8rEcaklTg7"
      },
      "source": [
        "import pandas as pd"
      ],
      "execution_count": null,
      "outputs": []
    },
    {
      "cell_type": "code",
      "metadata": {
        "id": "1Elzcmq0lYko",
        "colab": {
          "base_uri": "https://localhost:8080/",
          "height": 204
        },
        "outputId": "52662417-ef1c-4594-c736-52aedc971fbc"
      },
      "source": [
        "df = pd.read_excel('Data Sample (AIC) для итоговой работы .xlsx')\n",
        "df.head()"
      ],
      "execution_count": null,
      "outputs": [
        {
          "output_type": "execute_result",
          "data": {
            "text/html": [
              "<div>\n",
              "<style scoped>\n",
              "    .dataframe tbody tr th:only-of-type {\n",
              "        vertical-align: middle;\n",
              "    }\n",
              "\n",
              "    .dataframe tbody tr th {\n",
              "        vertical-align: top;\n",
              "    }\n",
              "\n",
              "    .dataframe thead th {\n",
              "        text-align: right;\n",
              "    }\n",
              "</style>\n",
              "<table border=\"1\" class=\"dataframe\">\n",
              "  <thead>\n",
              "    <tr style=\"text-align: right;\">\n",
              "      <th></th>\n",
              "      <th>InvoiceNo</th>\n",
              "      <th>StockCode</th>\n",
              "      <th>Description</th>\n",
              "      <th>Quantity</th>\n",
              "      <th>InvoiceDate</th>\n",
              "      <th>UnitPrice</th>\n",
              "      <th>CustomerID</th>\n",
              "      <th>Country</th>\n",
              "    </tr>\n",
              "  </thead>\n",
              "  <tbody>\n",
              "    <tr>\n",
              "      <th>0</th>\n",
              "      <td>536365</td>\n",
              "      <td>84029E</td>\n",
              "      <td>RED WOOLLY HOTTIE WHITE HEART.</td>\n",
              "      <td>6</td>\n",
              "      <td>2010-12-01 08:26:00</td>\n",
              "      <td>3.39</td>\n",
              "      <td>17850.0</td>\n",
              "      <td>United Kingdom</td>\n",
              "    </tr>\n",
              "    <tr>\n",
              "      <th>1</th>\n",
              "      <td>536367</td>\n",
              "      <td>84879</td>\n",
              "      <td>ASSORTED COLOUR BIRD ORNAMENT</td>\n",
              "      <td>32</td>\n",
              "      <td>2010-12-01 08:34:00</td>\n",
              "      <td>1.69</td>\n",
              "      <td>13047.0</td>\n",
              "      <td>United Kingdom</td>\n",
              "    </tr>\n",
              "    <tr>\n",
              "      <th>2</th>\n",
              "      <td>536367</td>\n",
              "      <td>21755</td>\n",
              "      <td>LOVE BUILDING BLOCK WORD</td>\n",
              "      <td>3</td>\n",
              "      <td>2010-12-01 08:34:00</td>\n",
              "      <td>5.95</td>\n",
              "      <td>13047.0</td>\n",
              "      <td>United Kingdom</td>\n",
              "    </tr>\n",
              "    <tr>\n",
              "      <th>3</th>\n",
              "      <td>536368</td>\n",
              "      <td>22914</td>\n",
              "      <td>BLUE COAT RACK PARIS FASHION</td>\n",
              "      <td>3</td>\n",
              "      <td>2010-12-01 08:34:00</td>\n",
              "      <td>4.95</td>\n",
              "      <td>13047.0</td>\n",
              "      <td>United Kingdom</td>\n",
              "    </tr>\n",
              "    <tr>\n",
              "      <th>4</th>\n",
              "      <td>536373</td>\n",
              "      <td>84406B</td>\n",
              "      <td>CREAM CUPID HEARTS COAT HANGER</td>\n",
              "      <td>8</td>\n",
              "      <td>2010-12-01 09:02:00</td>\n",
              "      <td>2.75</td>\n",
              "      <td>17850.0</td>\n",
              "      <td>United Kingdom</td>\n",
              "    </tr>\n",
              "  </tbody>\n",
              "</table>\n",
              "</div>"
            ],
            "text/plain": [
              "  InvoiceNo StockCode  ... CustomerID         Country\n",
              "0    536365    84029E  ...    17850.0  United Kingdom\n",
              "1    536367     84879  ...    13047.0  United Kingdom\n",
              "2    536367     21755  ...    13047.0  United Kingdom\n",
              "3    536368     22914  ...    13047.0  United Kingdom\n",
              "4    536373    84406B  ...    17850.0  United Kingdom\n",
              "\n",
              "[5 rows x 8 columns]"
            ]
          },
          "metadata": {},
          "execution_count": 65
        }
      ]
    },
    {
      "cell_type": "markdown",
      "metadata": {
        "id": "Pyv9JcQCrogM"
      },
      "source": [
        "## **Подготовка** **данных**"
      ]
    },
    {
      "cell_type": "code",
      "metadata": {
        "colab": {
          "base_uri": "https://localhost:8080/"
        },
        "id": "mqqtDTeYl4df",
        "outputId": "f317978c-5b36-4f7b-c614-a720880327a4"
      },
      "source": [
        "df.info()"
      ],
      "execution_count": null,
      "outputs": [
        {
          "output_type": "stream",
          "name": "stdout",
          "text": [
            "<class 'pandas.core.frame.DataFrame'>\n",
            "RangeIndex: 54214 entries, 0 to 54213\n",
            "Data columns (total 8 columns):\n",
            " #   Column       Non-Null Count  Dtype         \n",
            "---  ------       --------------  -----         \n",
            " 0   InvoiceNo    54214 non-null  object        \n",
            " 1   StockCode    54214 non-null  object        \n",
            " 2   Description  54080 non-null  object        \n",
            " 3   Quantity     54214 non-null  int64         \n",
            " 4   InvoiceDate  54214 non-null  datetime64[ns]\n",
            " 5   UnitPrice    54214 non-null  float64       \n",
            " 6   CustomerID   40643 non-null  float64       \n",
            " 7   Country      54214 non-null  object        \n",
            "dtypes: datetime64[ns](1), float64(2), int64(1), object(4)\n",
            "memory usage: 3.3+ MB\n"
          ]
        }
      ]
    },
    {
      "cell_type": "code",
      "metadata": {
        "id": "dHKQTfTKpPnQ"
      },
      "source": [
        "# cтолбец CustomerID имеет много пропусков, пропуски оставляем, ничем заполнить их не можем, если удалить, \n",
        "# потеряем 25% данных, это много\n",
        "# CustomerID имеет числовой тип, переведем в тип object\n",
        "df['CustomerID'] = df['CustomerID'].astype(object)"
      ],
      "execution_count": null,
      "outputs": []
    },
    {
      "cell_type": "code",
      "metadata": {
        "colab": {
          "base_uri": "https://localhost:8080/",
          "height": 297
        },
        "id": "mAC9wVFzmVmQ",
        "outputId": "624f9e9d-4b50-467b-c0b7-cc6eaa22cb5b"
      },
      "source": [
        "df.describe()"
      ],
      "execution_count": null,
      "outputs": [
        {
          "output_type": "execute_result",
          "data": {
            "text/html": [
              "<div>\n",
              "<style scoped>\n",
              "    .dataframe tbody tr th:only-of-type {\n",
              "        vertical-align: middle;\n",
              "    }\n",
              "\n",
              "    .dataframe tbody tr th {\n",
              "        vertical-align: top;\n",
              "    }\n",
              "\n",
              "    .dataframe thead th {\n",
              "        text-align: right;\n",
              "    }\n",
              "</style>\n",
              "<table border=\"1\" class=\"dataframe\">\n",
              "  <thead>\n",
              "    <tr style=\"text-align: right;\">\n",
              "      <th></th>\n",
              "      <th>Quantity</th>\n",
              "      <th>UnitPrice</th>\n",
              "    </tr>\n",
              "  </thead>\n",
              "  <tbody>\n",
              "    <tr>\n",
              "      <th>count</th>\n",
              "      <td>54214.000000</td>\n",
              "      <td>54214.000000</td>\n",
              "    </tr>\n",
              "    <tr>\n",
              "      <th>mean</th>\n",
              "      <td>9.610802</td>\n",
              "      <td>4.307341</td>\n",
              "    </tr>\n",
              "    <tr>\n",
              "      <th>std</th>\n",
              "      <td>57.358422</td>\n",
              "      <td>47.834496</td>\n",
              "    </tr>\n",
              "    <tr>\n",
              "      <th>min</th>\n",
              "      <td>-9600.000000</td>\n",
              "      <td>0.000000</td>\n",
              "    </tr>\n",
              "    <tr>\n",
              "      <th>25%</th>\n",
              "      <td>1.000000</td>\n",
              "      <td>1.250000</td>\n",
              "    </tr>\n",
              "    <tr>\n",
              "      <th>50%</th>\n",
              "      <td>3.000000</td>\n",
              "      <td>2.080000</td>\n",
              "    </tr>\n",
              "    <tr>\n",
              "      <th>75%</th>\n",
              "      <td>10.000000</td>\n",
              "      <td>4.130000</td>\n",
              "    </tr>\n",
              "    <tr>\n",
              "      <th>max</th>\n",
              "      <td>2400.000000</td>\n",
              "      <td>6930.000000</td>\n",
              "    </tr>\n",
              "  </tbody>\n",
              "</table>\n",
              "</div>"
            ],
            "text/plain": [
              "           Quantity     UnitPrice\n",
              "count  54214.000000  54214.000000\n",
              "mean       9.610802      4.307341\n",
              "std       57.358422     47.834496\n",
              "min    -9600.000000      0.000000\n",
              "25%        1.000000      1.250000\n",
              "50%        3.000000      2.080000\n",
              "75%       10.000000      4.130000\n",
              "max     2400.000000   6930.000000"
            ]
          },
          "metadata": {},
          "execution_count": 68
        }
      ]
    },
    {
      "cell_type": "code",
      "metadata": {
        "id": "Wust5S6tmZi3"
      },
      "source": [
        "# видим, что количество товара (Quantity) имеет отрицательное значение, чего быть не должно\n",
        "# цена за штуку (UnitPrice) имеют нулевые значения, этого быть не может"
      ],
      "execution_count": null,
      "outputs": []
    },
    {
      "cell_type": "code",
      "metadata": {
        "colab": {
          "base_uri": "https://localhost:8080/",
          "height": 419
        },
        "id": "gmGVXf7dqAhY",
        "outputId": "b3059628-c152-47ae-f37d-137c8c37477c"
      },
      "source": [
        "# посмотрим, много ли позиций с нулевым значением UnitPrice\n",
        "df.loc[df['UnitPrice'] == 0]"
      ],
      "execution_count": null,
      "outputs": [
        {
          "output_type": "execute_result",
          "data": {
            "text/html": [
              "<div>\n",
              "<style scoped>\n",
              "    .dataframe tbody tr th:only-of-type {\n",
              "        vertical-align: middle;\n",
              "    }\n",
              "\n",
              "    .dataframe tbody tr th {\n",
              "        vertical-align: top;\n",
              "    }\n",
              "\n",
              "    .dataframe thead th {\n",
              "        text-align: right;\n",
              "    }\n",
              "</style>\n",
              "<table border=\"1\" class=\"dataframe\">\n",
              "  <thead>\n",
              "    <tr style=\"text-align: right;\">\n",
              "      <th></th>\n",
              "      <th>InvoiceNo</th>\n",
              "      <th>StockCode</th>\n",
              "      <th>Description</th>\n",
              "      <th>Quantity</th>\n",
              "      <th>InvoiceDate</th>\n",
              "      <th>UnitPrice</th>\n",
              "      <th>CustomerID</th>\n",
              "      <th>Country</th>\n",
              "    </tr>\n",
              "  </thead>\n",
              "  <tbody>\n",
              "    <tr>\n",
              "      <th>204</th>\n",
              "      <td>536553</td>\n",
              "      <td>37461</td>\n",
              "      <td>NaN</td>\n",
              "      <td>3</td>\n",
              "      <td>2010-12-01 14:35:00</td>\n",
              "      <td>0.0</td>\n",
              "      <td>NaN</td>\n",
              "      <td>United Kingdom</td>\n",
              "    </tr>\n",
              "    <tr>\n",
              "      <th>730</th>\n",
              "      <td>536995</td>\n",
              "      <td>35951</td>\n",
              "      <td>NaN</td>\n",
              "      <td>57</td>\n",
              "      <td>2010-12-03 15:29:00</td>\n",
              "      <td>0.0</td>\n",
              "      <td>NaN</td>\n",
              "      <td>United Kingdom</td>\n",
              "    </tr>\n",
              "    <tr>\n",
              "      <th>731</th>\n",
              "      <td>536998</td>\n",
              "      <td>85067</td>\n",
              "      <td>NaN</td>\n",
              "      <td>-6</td>\n",
              "      <td>2010-12-03 15:30:00</td>\n",
              "      <td>0.0</td>\n",
              "      <td>NaN</td>\n",
              "      <td>United Kingdom</td>\n",
              "    </tr>\n",
              "    <tr>\n",
              "      <th>732</th>\n",
              "      <td>537005</td>\n",
              "      <td>21692</td>\n",
              "      <td>NaN</td>\n",
              "      <td>-70</td>\n",
              "      <td>2010-12-03 15:35:00</td>\n",
              "      <td>0.0</td>\n",
              "      <td>NaN</td>\n",
              "      <td>United Kingdom</td>\n",
              "    </tr>\n",
              "    <tr>\n",
              "      <th>733</th>\n",
              "      <td>537009</td>\n",
              "      <td>84534B</td>\n",
              "      <td>NaN</td>\n",
              "      <td>-80</td>\n",
              "      <td>2010-12-03 15:38:00</td>\n",
              "      <td>0.0</td>\n",
              "      <td>NaN</td>\n",
              "      <td>United Kingdom</td>\n",
              "    </tr>\n",
              "    <tr>\n",
              "      <th>...</th>\n",
              "      <td>...</td>\n",
              "      <td>...</td>\n",
              "      <td>...</td>\n",
              "      <td>...</td>\n",
              "      <td>...</td>\n",
              "      <td>...</td>\n",
              "      <td>...</td>\n",
              "      <td>...</td>\n",
              "    </tr>\n",
              "    <tr>\n",
              "      <th>51508</th>\n",
              "      <td>579743</td>\n",
              "      <td>21810</td>\n",
              "      <td>check</td>\n",
              "      <td>-135</td>\n",
              "      <td>2011-11-30 14:36:00</td>\n",
              "      <td>0.0</td>\n",
              "      <td>NaN</td>\n",
              "      <td>United Kingdom</td>\n",
              "    </tr>\n",
              "    <tr>\n",
              "      <th>52171</th>\n",
              "      <td>580359</td>\n",
              "      <td>20775</td>\n",
              "      <td>NaN</td>\n",
              "      <td>-35</td>\n",
              "      <td>2011-12-02 16:11:00</td>\n",
              "      <td>0.0</td>\n",
              "      <td>NaN</td>\n",
              "      <td>United Kingdom</td>\n",
              "    </tr>\n",
              "    <tr>\n",
              "      <th>53536</th>\n",
              "      <td>581207</td>\n",
              "      <td>21688</td>\n",
              "      <td>mixed up</td>\n",
              "      <td>-337</td>\n",
              "      <td>2011-12-07 18:34:00</td>\n",
              "      <td>0.0</td>\n",
              "      <td>NaN</td>\n",
              "      <td>United Kingdom</td>\n",
              "    </tr>\n",
              "    <tr>\n",
              "      <th>53537</th>\n",
              "      <td>581209</td>\n",
              "      <td>21620</td>\n",
              "      <td>NaN</td>\n",
              "      <td>6</td>\n",
              "      <td>2011-12-07 18:35:00</td>\n",
              "      <td>0.0</td>\n",
              "      <td>NaN</td>\n",
              "      <td>United Kingdom</td>\n",
              "    </tr>\n",
              "    <tr>\n",
              "      <th>53702</th>\n",
              "      <td>581226</td>\n",
              "      <td>23090</td>\n",
              "      <td>missing</td>\n",
              "      <td>-338</td>\n",
              "      <td>2011-12-08 09:56:00</td>\n",
              "      <td>0.0</td>\n",
              "      <td>NaN</td>\n",
              "      <td>United Kingdom</td>\n",
              "    </tr>\n",
              "  </tbody>\n",
              "</table>\n",
              "<p>225 rows × 8 columns</p>\n",
              "</div>"
            ],
            "text/plain": [
              "      InvoiceNo StockCode Description  ...  UnitPrice CustomerID         Country\n",
              "204      536553     37461         NaN  ...        0.0        NaN  United Kingdom\n",
              "730      536995     35951         NaN  ...        0.0        NaN  United Kingdom\n",
              "731      536998     85067         NaN  ...        0.0        NaN  United Kingdom\n",
              "732      537005     21692         NaN  ...        0.0        NaN  United Kingdom\n",
              "733      537009    84534B         NaN  ...        0.0        NaN  United Kingdom\n",
              "...         ...       ...         ...  ...        ...        ...             ...\n",
              "51508    579743     21810       check  ...        0.0        NaN  United Kingdom\n",
              "52171    580359     20775         NaN  ...        0.0        NaN  United Kingdom\n",
              "53536    581207     21688    mixed up  ...        0.0        NaN  United Kingdom\n",
              "53537    581209     21620         NaN  ...        0.0        NaN  United Kingdom\n",
              "53702    581226     23090     missing  ...        0.0        NaN  United Kingdom\n",
              "\n",
              "[225 rows x 8 columns]"
            ]
          },
          "metadata": {},
          "execution_count": 69
        }
      ]
    },
    {
      "cell_type": "code",
      "metadata": {
        "id": "FLAm3Vr2tX6w"
      },
      "source": [
        "# удалим строки с нулевым значением UnitPrice\n",
        "df_new = df.drop(df[df['UnitPrice'] == 0].index)"
      ],
      "execution_count": null,
      "outputs": []
    },
    {
      "cell_type": "code",
      "metadata": {
        "colab": {
          "base_uri": "https://localhost:8080/",
          "height": 419
        },
        "id": "w450AMdl0543",
        "outputId": "f72d31f1-36e4-4206-80ad-b89bc63090af"
      },
      "source": [
        "# посмотрим, много ли позиций с отрицательным количеством товара\n",
        "df_new.loc[df_new['Quantity'] < 0]"
      ],
      "execution_count": null,
      "outputs": [
        {
          "output_type": "execute_result",
          "data": {
            "text/html": [
              "<div>\n",
              "<style scoped>\n",
              "    .dataframe tbody tr th:only-of-type {\n",
              "        vertical-align: middle;\n",
              "    }\n",
              "\n",
              "    .dataframe tbody tr th {\n",
              "        vertical-align: top;\n",
              "    }\n",
              "\n",
              "    .dataframe thead th {\n",
              "        text-align: right;\n",
              "    }\n",
              "</style>\n",
              "<table border=\"1\" class=\"dataframe\">\n",
              "  <thead>\n",
              "    <tr style=\"text-align: right;\">\n",
              "      <th></th>\n",
              "      <th>InvoiceNo</th>\n",
              "      <th>StockCode</th>\n",
              "      <th>Description</th>\n",
              "      <th>Quantity</th>\n",
              "      <th>InvoiceDate</th>\n",
              "      <th>UnitPrice</th>\n",
              "      <th>CustomerID</th>\n",
              "      <th>Country</th>\n",
              "    </tr>\n",
              "  </thead>\n",
              "  <tbody>\n",
              "    <tr>\n",
              "      <th>19</th>\n",
              "      <td>C536383</td>\n",
              "      <td>35004C</td>\n",
              "      <td>SET OF 3 COLOURED  FLYING DUCKS</td>\n",
              "      <td>-1</td>\n",
              "      <td>2010-12-01 09:49:00</td>\n",
              "      <td>4.65</td>\n",
              "      <td>15311</td>\n",
              "      <td>United Kingdom</td>\n",
              "    </tr>\n",
              "    <tr>\n",
              "      <th>30</th>\n",
              "      <td>C536391</td>\n",
              "      <td>21983</td>\n",
              "      <td>PACK OF 12 BLUE PAISLEY TISSUES</td>\n",
              "      <td>-24</td>\n",
              "      <td>2010-12-01 10:24:00</td>\n",
              "      <td>0.29</td>\n",
              "      <td>17548</td>\n",
              "      <td>United Kingdom</td>\n",
              "    </tr>\n",
              "    <tr>\n",
              "      <th>31</th>\n",
              "      <td>C536391</td>\n",
              "      <td>21980</td>\n",
              "      <td>PACK OF 12 RED RETROSPOT TISSUES</td>\n",
              "      <td>-24</td>\n",
              "      <td>2010-12-01 10:24:00</td>\n",
              "      <td>0.29</td>\n",
              "      <td>17548</td>\n",
              "      <td>United Kingdom</td>\n",
              "    </tr>\n",
              "    <tr>\n",
              "      <th>202</th>\n",
              "      <td>C536548</td>\n",
              "      <td>20957</td>\n",
              "      <td>PORCELAIN HANGING BELL SMALL</td>\n",
              "      <td>-1</td>\n",
              "      <td>2010-12-01 14:33:00</td>\n",
              "      <td>1.45</td>\n",
              "      <td>12472</td>\n",
              "      <td>Germany</td>\n",
              "    </tr>\n",
              "    <tr>\n",
              "      <th>375</th>\n",
              "      <td>C536642</td>\n",
              "      <td>21463</td>\n",
              "      <td>MIRRORED DISCO BALL</td>\n",
              "      <td>-1</td>\n",
              "      <td>2010-12-02 11:56:00</td>\n",
              "      <td>5.95</td>\n",
              "      <td>14390</td>\n",
              "      <td>United Kingdom</td>\n",
              "    </tr>\n",
              "    <tr>\n",
              "      <th>...</th>\n",
              "      <td>...</td>\n",
              "      <td>...</td>\n",
              "      <td>...</td>\n",
              "      <td>...</td>\n",
              "      <td>...</td>\n",
              "      <td>...</td>\n",
              "      <td>...</td>\n",
              "      <td>...</td>\n",
              "    </tr>\n",
              "    <tr>\n",
              "      <th>53704</th>\n",
              "      <td>C581229</td>\n",
              "      <td>79191C</td>\n",
              "      <td>RETRO PLASTIC ELEPHANT TRAY</td>\n",
              "      <td>-24</td>\n",
              "      <td>2011-12-08 10:14:00</td>\n",
              "      <td>0.85</td>\n",
              "      <td>12558</td>\n",
              "      <td>USA</td>\n",
              "    </tr>\n",
              "    <tr>\n",
              "      <th>53705</th>\n",
              "      <td>C581229</td>\n",
              "      <td>21507</td>\n",
              "      <td>ELEPHANT BIRTHDAY CARD</td>\n",
              "      <td>-12</td>\n",
              "      <td>2011-12-08 10:14:00</td>\n",
              "      <td>0.42</td>\n",
              "      <td>12558</td>\n",
              "      <td>USA</td>\n",
              "    </tr>\n",
              "    <tr>\n",
              "      <th>53765</th>\n",
              "      <td>C581322</td>\n",
              "      <td>22666</td>\n",
              "      <td>RECIPE BOX PANTRY YELLOW DESIGN</td>\n",
              "      <td>-1</td>\n",
              "      <td>2011-12-08 11:51:00</td>\n",
              "      <td>2.95</td>\n",
              "      <td>18223</td>\n",
              "      <td>United Kingdom</td>\n",
              "    </tr>\n",
              "    <tr>\n",
              "      <th>53770</th>\n",
              "      <td>C581330</td>\n",
              "      <td>22959</td>\n",
              "      <td>WRAP CHRISTMAS VILLAGE</td>\n",
              "      <td>-25</td>\n",
              "      <td>2011-12-08 11:57:00</td>\n",
              "      <td>0.42</td>\n",
              "      <td>15877</td>\n",
              "      <td>United Kingdom</td>\n",
              "    </tr>\n",
              "    <tr>\n",
              "      <th>53998</th>\n",
              "      <td>C581465</td>\n",
              "      <td>22171</td>\n",
              "      <td>3 HOOK PHOTO SHELF ANTIQUE WHITE</td>\n",
              "      <td>-1</td>\n",
              "      <td>2011-12-08 18:59:00</td>\n",
              "      <td>8.50</td>\n",
              "      <td>15755</td>\n",
              "      <td>United Kingdom</td>\n",
              "    </tr>\n",
              "  </tbody>\n",
              "</table>\n",
              "<p>960 rows × 8 columns</p>\n",
              "</div>"
            ],
            "text/plain": [
              "      InvoiceNo StockCode  ... CustomerID         Country\n",
              "19      C536383    35004C  ...      15311  United Kingdom\n",
              "30      C536391     21983  ...      17548  United Kingdom\n",
              "31      C536391     21980  ...      17548  United Kingdom\n",
              "202     C536548     20957  ...      12472         Germany\n",
              "375     C536642     21463  ...      14390  United Kingdom\n",
              "...         ...       ...  ...        ...             ...\n",
              "53704   C581229    79191C  ...      12558             USA\n",
              "53705   C581229     21507  ...      12558             USA\n",
              "53765   C581322     22666  ...      18223  United Kingdom\n",
              "53770   C581330     22959  ...      15877  United Kingdom\n",
              "53998   C581465     22171  ...      15755  United Kingdom\n",
              "\n",
              "[960 rows x 8 columns]"
            ]
          },
          "metadata": {},
          "execution_count": 71
        }
      ]
    },
    {
      "cell_type": "code",
      "metadata": {
        "id": "sgb9JjZI-_ZO"
      },
      "source": [
        "# отрицательные значения оставить не можем, поскольку они исказят значения выручки.\n",
        "# примем, что произошла опечатка и заменим минусы на положительные значения.\n",
        "# хотя, нужно уточнить, была ли опечатка или данные не верны, и их следует удалить или же таким образом указаны возвраты"
      ],
      "execution_count": null,
      "outputs": []
    },
    {
      "cell_type": "code",
      "metadata": {
        "colab": {
          "base_uri": "https://localhost:8080/"
        },
        "id": "6qAb3Se9-fP5",
        "outputId": "47cbea38-a407-4014-ec51-00dd46151401"
      },
      "source": [
        "df_new['Quantity'][df_new['Quantity'] < 0] = df_new['Quantity'] * -1"
      ],
      "execution_count": null,
      "outputs": [
        {
          "output_type": "stream",
          "name": "stderr",
          "text": [
            "/usr/local/lib/python3.7/dist-packages/ipykernel_launcher.py:1: SettingWithCopyWarning: \n",
            "A value is trying to be set on a copy of a slice from a DataFrame\n",
            "\n",
            "See the caveats in the documentation: https://pandas.pydata.org/pandas-docs/stable/user_guide/indexing.html#returning-a-view-versus-a-copy\n",
            "  \"\"\"Entry point for launching an IPython kernel.\n"
          ]
        }
      ]
    },
    {
      "cell_type": "code",
      "metadata": {
        "colab": {
          "base_uri": "https://localhost:8080/",
          "height": 297
        },
        "id": "QcV5pVAbamC6",
        "outputId": "b44cb6bf-766c-4a2d-f6e0-0c5c13183c3d"
      },
      "source": [
        "df_new.describe()"
      ],
      "execution_count": null,
      "outputs": [
        {
          "output_type": "execute_result",
          "data": {
            "text/html": [
              "<div>\n",
              "<style scoped>\n",
              "    .dataframe tbody tr th:only-of-type {\n",
              "        vertical-align: middle;\n",
              "    }\n",
              "\n",
              "    .dataframe tbody tr th {\n",
              "        vertical-align: top;\n",
              "    }\n",
              "\n",
              "    .dataframe thead th {\n",
              "        text-align: right;\n",
              "    }\n",
              "</style>\n",
              "<table border=\"1\" class=\"dataframe\">\n",
              "  <thead>\n",
              "    <tr style=\"text-align: right;\">\n",
              "      <th></th>\n",
              "      <th>Quantity</th>\n",
              "      <th>UnitPrice</th>\n",
              "    </tr>\n",
              "  </thead>\n",
              "  <tbody>\n",
              "    <tr>\n",
              "      <th>count</th>\n",
              "      <td>53989.000000</td>\n",
              "      <td>53989.000000</td>\n",
              "    </tr>\n",
              "    <tr>\n",
              "      <th>mean</th>\n",
              "      <td>10.489692</td>\n",
              "      <td>4.325292</td>\n",
              "    </tr>\n",
              "    <tr>\n",
              "      <th>std</th>\n",
              "      <td>38.294949</td>\n",
              "      <td>47.933260</td>\n",
              "    </tr>\n",
              "    <tr>\n",
              "      <th>min</th>\n",
              "      <td>1.000000</td>\n",
              "      <td>0.001000</td>\n",
              "    </tr>\n",
              "    <tr>\n",
              "      <th>25%</th>\n",
              "      <td>1.000000</td>\n",
              "      <td>1.250000</td>\n",
              "    </tr>\n",
              "    <tr>\n",
              "      <th>50%</th>\n",
              "      <td>3.000000</td>\n",
              "      <td>2.100000</td>\n",
              "    </tr>\n",
              "    <tr>\n",
              "      <th>75%</th>\n",
              "      <td>10.000000</td>\n",
              "      <td>4.130000</td>\n",
              "    </tr>\n",
              "    <tr>\n",
              "      <th>max</th>\n",
              "      <td>2400.000000</td>\n",
              "      <td>6930.000000</td>\n",
              "    </tr>\n",
              "  </tbody>\n",
              "</table>\n",
              "</div>"
            ],
            "text/plain": [
              "           Quantity     UnitPrice\n",
              "count  53989.000000  53989.000000\n",
              "mean      10.489692      4.325292\n",
              "std       38.294949     47.933260\n",
              "min        1.000000      0.001000\n",
              "25%        1.000000      1.250000\n",
              "50%        3.000000      2.100000\n",
              "75%       10.000000      4.130000\n",
              "max     2400.000000   6930.000000"
            ]
          },
          "metadata": {},
          "execution_count": 73
        }
      ]
    },
    {
      "cell_type": "code",
      "metadata": {
        "colab": {
          "base_uri": "https://localhost:8080/"
        },
        "id": "yYwabqPIa0Yl",
        "outputId": "b8803ad6-f843-429b-b424-b0f9902174ed"
      },
      "source": [
        "df_new.info()"
      ],
      "execution_count": null,
      "outputs": [
        {
          "output_type": "stream",
          "name": "stdout",
          "text": [
            "<class 'pandas.core.frame.DataFrame'>\n",
            "Int64Index: 53989 entries, 0 to 54213\n",
            "Data columns (total 8 columns):\n",
            " #   Column       Non-Null Count  Dtype         \n",
            "---  ------       --------------  -----         \n",
            " 0   InvoiceNo    53989 non-null  object        \n",
            " 1   StockCode    53989 non-null  object        \n",
            " 2   Description  53989 non-null  object        \n",
            " 3   Quantity     53989 non-null  int64         \n",
            " 4   InvoiceDate  53989 non-null  datetime64[ns]\n",
            " 5   UnitPrice    53989 non-null  float64       \n",
            " 6   CustomerID   40639 non-null  object        \n",
            " 7   Country      53989 non-null  object        \n",
            "dtypes: datetime64[ns](1), float64(1), int64(1), object(5)\n",
            "memory usage: 3.7+ MB\n"
          ]
        }
      ]
    },
    {
      "cell_type": "code",
      "metadata": {
        "id": "QjeGBAlzavEb"
      },
      "source": [
        "# данные готовы для дальнейшего исследования"
      ],
      "execution_count": null,
      "outputs": []
    },
    {
      "cell_type": "markdown",
      "metadata": {
        "id": "2EI-SRo2sKHP"
      },
      "source": [
        "## **Анализ** **данных**"
      ]
    },
    {
      "cell_type": "code",
      "metadata": {
        "id": "aWEqTil3smED"
      },
      "source": [
        "import matplotlib.pyplot as plt\n",
        "import seaborn as sns"
      ],
      "execution_count": null,
      "outputs": []
    },
    {
      "cell_type": "code",
      "metadata": {
        "id": "OZHhXNdxTxu2"
      },
      "source": [
        "from pylab import rcParams\n",
        "rcParams['figure.figsize'] = 11,5"
      ],
      "execution_count": null,
      "outputs": []
    },
    {
      "cell_type": "code",
      "metadata": {
        "colab": {
          "base_uri": "https://localhost:8080/"
        },
        "id": "E12E185jBxcJ",
        "outputId": "6e3924b2-a2d7-4254-993e-ae835f24dd6b"
      },
      "source": [
        "# посмотрим, в каких странах чаще делают заказы\n",
        "df_analysis = df_new.groupby('Country').count()['Quantity'].sort_values(ascending = False).head(10)\n",
        "df_analysis"
      ],
      "execution_count": null,
      "outputs": [
        {
          "output_type": "execute_result",
          "data": {
            "text/plain": [
              "Country\n",
              "United Kingdom    49378\n",
              "Germany             951\n",
              "France              881\n",
              "EIRE                787\n",
              "Spain               253\n",
              "Netherlands         234\n",
              "Belgium             211\n",
              "Switzerland         189\n",
              "Portugal            152\n",
              "Australia           130\n",
              "Name: Quantity, dtype: int64"
            ]
          },
          "metadata": {},
          "execution_count": 77
        }
      ]
    },
    {
      "cell_type": "markdown",
      "metadata": {
        "id": "BfOiwJLvbsQN"
      },
      "source": [
        "*Как видно из таблицы, чаще всего делают заказы в Великобритании. Также имеется довольно большая активность клиентов по частоте заказов в  Германии, Франции и Ирландии*"
      ]
    },
    {
      "cell_type": "code",
      "metadata": {
        "colab": {
          "base_uri": "https://localhost:8080/",
          "height": 204
        },
        "id": "itTuAKLyDQIE",
        "outputId": "70550230-2719-4b11-e9cc-0f72c9573e11"
      },
      "source": [
        "# создадим новый столбец, в котором посчитаем выручку по каждой позиции\n",
        "df_new['total'] = df_new['Quantity'] * df_new['UnitPrice']\n",
        "df_new.head()"
      ],
      "execution_count": null,
      "outputs": [
        {
          "output_type": "execute_result",
          "data": {
            "text/html": [
              "<div>\n",
              "<style scoped>\n",
              "    .dataframe tbody tr th:only-of-type {\n",
              "        vertical-align: middle;\n",
              "    }\n",
              "\n",
              "    .dataframe tbody tr th {\n",
              "        vertical-align: top;\n",
              "    }\n",
              "\n",
              "    .dataframe thead th {\n",
              "        text-align: right;\n",
              "    }\n",
              "</style>\n",
              "<table border=\"1\" class=\"dataframe\">\n",
              "  <thead>\n",
              "    <tr style=\"text-align: right;\">\n",
              "      <th></th>\n",
              "      <th>InvoiceNo</th>\n",
              "      <th>StockCode</th>\n",
              "      <th>Description</th>\n",
              "      <th>Quantity</th>\n",
              "      <th>InvoiceDate</th>\n",
              "      <th>UnitPrice</th>\n",
              "      <th>CustomerID</th>\n",
              "      <th>Country</th>\n",
              "      <th>total</th>\n",
              "    </tr>\n",
              "  </thead>\n",
              "  <tbody>\n",
              "    <tr>\n",
              "      <th>0</th>\n",
              "      <td>536365</td>\n",
              "      <td>84029E</td>\n",
              "      <td>RED WOOLLY HOTTIE WHITE HEART.</td>\n",
              "      <td>6</td>\n",
              "      <td>2010-12-01 08:26:00</td>\n",
              "      <td>3.39</td>\n",
              "      <td>17850</td>\n",
              "      <td>United Kingdom</td>\n",
              "      <td>20.34</td>\n",
              "    </tr>\n",
              "    <tr>\n",
              "      <th>1</th>\n",
              "      <td>536367</td>\n",
              "      <td>84879</td>\n",
              "      <td>ASSORTED COLOUR BIRD ORNAMENT</td>\n",
              "      <td>32</td>\n",
              "      <td>2010-12-01 08:34:00</td>\n",
              "      <td>1.69</td>\n",
              "      <td>13047</td>\n",
              "      <td>United Kingdom</td>\n",
              "      <td>54.08</td>\n",
              "    </tr>\n",
              "    <tr>\n",
              "      <th>2</th>\n",
              "      <td>536367</td>\n",
              "      <td>21755</td>\n",
              "      <td>LOVE BUILDING BLOCK WORD</td>\n",
              "      <td>3</td>\n",
              "      <td>2010-12-01 08:34:00</td>\n",
              "      <td>5.95</td>\n",
              "      <td>13047</td>\n",
              "      <td>United Kingdom</td>\n",
              "      <td>17.85</td>\n",
              "    </tr>\n",
              "    <tr>\n",
              "      <th>3</th>\n",
              "      <td>536368</td>\n",
              "      <td>22914</td>\n",
              "      <td>BLUE COAT RACK PARIS FASHION</td>\n",
              "      <td>3</td>\n",
              "      <td>2010-12-01 08:34:00</td>\n",
              "      <td>4.95</td>\n",
              "      <td>13047</td>\n",
              "      <td>United Kingdom</td>\n",
              "      <td>14.85</td>\n",
              "    </tr>\n",
              "    <tr>\n",
              "      <th>4</th>\n",
              "      <td>536373</td>\n",
              "      <td>84406B</td>\n",
              "      <td>CREAM CUPID HEARTS COAT HANGER</td>\n",
              "      <td>8</td>\n",
              "      <td>2010-12-01 09:02:00</td>\n",
              "      <td>2.75</td>\n",
              "      <td>17850</td>\n",
              "      <td>United Kingdom</td>\n",
              "      <td>22.00</td>\n",
              "    </tr>\n",
              "  </tbody>\n",
              "</table>\n",
              "</div>"
            ],
            "text/plain": [
              "  InvoiceNo StockCode  ...         Country  total\n",
              "0    536365    84029E  ...  United Kingdom  20.34\n",
              "1    536367     84879  ...  United Kingdom  54.08\n",
              "2    536367     21755  ...  United Kingdom  17.85\n",
              "3    536368     22914  ...  United Kingdom  14.85\n",
              "4    536373    84406B  ...  United Kingdom  22.00\n",
              "\n",
              "[5 rows x 9 columns]"
            ]
          },
          "metadata": {},
          "execution_count": 78
        }
      ]
    },
    {
      "cell_type": "code",
      "metadata": {
        "colab": {
          "base_uri": "https://localhost:8080/"
        },
        "id": "V4v3V8t0DgWa",
        "outputId": "fb291d1f-fef5-4f80-9db7-9e41f5a2aefd"
      },
      "source": [
        "# посмотрим топ-10 стран, приносящих максимальную выручку\n",
        "df_analysis2 = df_new.groupby('Country').sum()['total'].sort_values(ascending = False).head(10)\n",
        "df_analysis2"
      ],
      "execution_count": null,
      "outputs": [
        {
          "output_type": "execute_result",
          "data": {
            "text/plain": [
              "Country\n",
              "United Kingdom    939628.821\n",
              "EIRE               30574.080\n",
              "Netherlands        26710.580\n",
              "Germany            24893.120\n",
              "France             20149.970\n",
              "Australia          17240.220\n",
              "Switzerland         6222.500\n",
              "Sweden              6124.520\n",
              "Spain               5986.860\n",
              "Portugal            4557.790\n",
              "Name: total, dtype: float64"
            ]
          },
          "metadata": {},
          "execution_count": 79
        }
      ]
    },
    {
      "cell_type": "markdown",
      "metadata": {
        "id": "XJr0H8V_cGNi"
      },
      "source": [
        "*Как видно из таблицы, основной объем выручки приходится на внутренний рынок. Также большую прибыль приносят Ирландия, Нидерланды, Германия, Франция и Австралия*"
      ]
    },
    {
      "cell_type": "code",
      "metadata": {
        "colab": {
          "base_uri": "https://localhost:8080/"
        },
        "id": "9STq1grTAdiz",
        "outputId": "0c6de71d-5d3c-4e39-c976-f662fb8076a5"
      },
      "source": [
        "# посмотрим, как распределена выручка в зависимости от года и месяца\n",
        "df_new['month_'] = df_new['InvoiceDate'].dt.strftime('%b')\n",
        "df_new['year_'] = df_new['InvoiceDate'].dt.strftime('%Y')\n",
        "df_analysis3 = df_new.groupby([\"month_\", 'year_'])['total'].sum().sort_values(ascending=False)\n",
        "df_analysis3"
      ],
      "execution_count": null,
      "outputs": [
        {
          "output_type": "execute_result",
          "data": {
            "text/plain": [
              "month_  year_\n",
              "Nov     2011     162891.240\n",
              "Oct     2011     117721.050\n",
              "Sep     2011     107561.401\n",
              "Aug     2011      89977.960\n",
              "May     2011      86225.440\n",
              "Dec     2010      82586.720\n",
              "Mar     2011      80830.180\n",
              "Jul     2011      79266.680\n",
              "Jun     2011      79196.960\n",
              "Jan     2011      67922.680\n",
              "Apr     2011      54151.210\n",
              "Feb     2011      53537.120\n",
              "Dec     2011      50371.450\n",
              "Name: total, dtype: float64"
            ]
          },
          "metadata": {},
          "execution_count": 80
        }
      ]
    },
    {
      "cell_type": "markdown",
      "metadata": {
        "id": "u3GFDDRXc6tR"
      },
      "source": [
        "*По полученным данным не наблюдается явная динамика по объему выручки в зависимости от месяца, однако можно обратить внимание, что осенью была самая большая выручка.*"
      ]
    },
    {
      "cell_type": "code",
      "metadata": {
        "id": "XA9p8rr2qB0O"
      },
      "source": [
        "# посмотрим, какие клиенты являются самыми активными\n",
        "df_analysis4 = df_new.groupby(['CustomerID', 'Country']).agg({'total': 'sum', 'Quantity': 'count'}).sort_values(by = 'total', ascending = False).head(30)"
      ],
      "execution_count": null,
      "outputs": []
    },
    {
      "cell_type": "code",
      "metadata": {
        "colab": {
          "base_uri": "https://localhost:8080/",
          "height": 691
        },
        "id": "MAXeiAr115Xy",
        "outputId": "3040e21d-b6fa-42a1-cf40-380c40c501b1"
      },
      "source": [
        "df_analysis4.style.bar(align='mid')"
      ],
      "execution_count": null,
      "outputs": [
        {
          "output_type": "execute_result",
          "data": {
            "text/html": [
              "<style  type=\"text/css\" >\n",
              "#T_8c3d88f0_334b_11ec_b8aa_0242ac1c0002row0_col0,#T_8c3d88f0_334b_11ec_b8aa_0242ac1c0002row23_col1{\n",
              "            width:  10em;\n",
              "             height:  80%;\n",
              "            background:  linear-gradient(90deg,#d65f5f 100.0%, transparent 100.0%);\n",
              "        }#T_8c3d88f0_334b_11ec_b8aa_0242ac1c0002row0_col1{\n",
              "            width:  10em;\n",
              "             height:  80%;\n",
              "            background:  linear-gradient(90deg,#d65f5f 5.4%, transparent 5.4%);\n",
              "        }#T_8c3d88f0_334b_11ec_b8aa_0242ac1c0002row1_col0{\n",
              "            width:  10em;\n",
              "             height:  80%;\n",
              "            background:  linear-gradient(90deg,#d65f5f 95.6%, transparent 95.6%);\n",
              "        }#T_8c3d88f0_334b_11ec_b8aa_0242ac1c0002row1_col1{\n",
              "            width:  10em;\n",
              "             height:  80%;\n",
              "            background:  linear-gradient(90deg,#d65f5f 5.6%, transparent 5.6%);\n",
              "        }#T_8c3d88f0_334b_11ec_b8aa_0242ac1c0002row2_col0{\n",
              "            width:  10em;\n",
              "             height:  80%;\n",
              "            background:  linear-gradient(90deg,#d65f5f 92.6%, transparent 92.6%);\n",
              "        }#T_8c3d88f0_334b_11ec_b8aa_0242ac1c0002row2_col1{\n",
              "            width:  10em;\n",
              "             height:  80%;\n",
              "            background:  linear-gradient(90deg,#d65f5f 25.3%, transparent 25.3%);\n",
              "        }#T_8c3d88f0_334b_11ec_b8aa_0242ac1c0002row3_col0{\n",
              "            width:  10em;\n",
              "             height:  80%;\n",
              "            background:  linear-gradient(90deg,#d65f5f 58.9%, transparent 58.9%);\n",
              "        }#T_8c3d88f0_334b_11ec_b8aa_0242ac1c0002row3_col1{\n",
              "            width:  10em;\n",
              "             height:  80%;\n",
              "            background:  linear-gradient(90deg,#d65f5f 3.5%, transparent 3.5%);\n",
              "        }#T_8c3d88f0_334b_11ec_b8aa_0242ac1c0002row4_col0{\n",
              "            width:  10em;\n",
              "             height:  80%;\n",
              "            background:  linear-gradient(90deg,#d65f5f 58.3%, transparent 58.3%);\n",
              "        }#T_8c3d88f0_334b_11ec_b8aa_0242ac1c0002row4_col1{\n",
              "            width:  10em;\n",
              "             height:  80%;\n",
              "            background:  linear-gradient(90deg,#d65f5f 11.2%, transparent 11.2%);\n",
              "        }#T_8c3d88f0_334b_11ec_b8aa_0242ac1c0002row5_col0{\n",
              "            width:  10em;\n",
              "             height:  80%;\n",
              "            background:  linear-gradient(90deg,#d65f5f 56.9%, transparent 56.9%);\n",
              "        }#T_8c3d88f0_334b_11ec_b8aa_0242ac1c0002row5_col1{\n",
              "            width:  10em;\n",
              "             height:  80%;\n",
              "            background:  linear-gradient(90deg,#d65f5f 73.0%, transparent 73.0%);\n",
              "        }#T_8c3d88f0_334b_11ec_b8aa_0242ac1c0002row6_col0{\n",
              "            width:  10em;\n",
              "             height:  80%;\n",
              "            background:  linear-gradient(90deg,#d65f5f 44.7%, transparent 44.7%);\n",
              "        }#T_8c3d88f0_334b_11ec_b8aa_0242ac1c0002row6_col1{\n",
              "            width:  10em;\n",
              "             height:  80%;\n",
              "            background:  linear-gradient(90deg,#d65f5f 18.5%, transparent 18.5%);\n",
              "        }#T_8c3d88f0_334b_11ec_b8aa_0242ac1c0002row7_col0{\n",
              "            width:  10em;\n",
              "             height:  80%;\n",
              "            background:  linear-gradient(90deg,#d65f5f 43.4%, transparent 43.4%);\n",
              "        }#T_8c3d88f0_334b_11ec_b8aa_0242ac1c0002row7_col1{\n",
              "            width:  10em;\n",
              "             height:  80%;\n",
              "            background:  linear-gradient(90deg,#d65f5f 1.0%, transparent 1.0%);\n",
              "        }#T_8c3d88f0_334b_11ec_b8aa_0242ac1c0002row8_col0{\n",
              "            width:  10em;\n",
              "             height:  80%;\n",
              "            background:  linear-gradient(90deg,#d65f5f 38.0%, transparent 38.0%);\n",
              "        }#T_8c3d88f0_334b_11ec_b8aa_0242ac1c0002row8_col1{\n",
              "            width:  10em;\n",
              "             height:  80%;\n",
              "            background:  linear-gradient(90deg,#d65f5f 2.1%, transparent 2.1%);\n",
              "        }#T_8c3d88f0_334b_11ec_b8aa_0242ac1c0002row9_col0{\n",
              "            width:  10em;\n",
              "             height:  80%;\n",
              "            background:  linear-gradient(90deg,#d65f5f 36.4%, transparent 36.4%);\n",
              "        }#T_8c3d88f0_334b_11ec_b8aa_0242ac1c0002row9_col1{\n",
              "            width:  10em;\n",
              "             height:  80%;\n",
              "            background:  linear-gradient(90deg,#d65f5f 14.9%, transparent 14.9%);\n",
              "        }#T_8c3d88f0_334b_11ec_b8aa_0242ac1c0002row10_col0{\n",
              "            width:  10em;\n",
              "             height:  80%;\n",
              "            background:  linear-gradient(90deg,#d65f5f 32.4%, transparent 32.4%);\n",
              "        }#T_8c3d88f0_334b_11ec_b8aa_0242ac1c0002row10_col1{\n",
              "            width:  10em;\n",
              "             height:  80%;\n",
              "            background:  linear-gradient(90deg,#d65f5f 70.8%, transparent 70.8%);\n",
              "        }#T_8c3d88f0_334b_11ec_b8aa_0242ac1c0002row11_col0{\n",
              "            width:  10em;\n",
              "             height:  80%;\n",
              "            background:  linear-gradient(90deg,#d65f5f 30.0%, transparent 30.0%);\n",
              "        }#T_8c3d88f0_334b_11ec_b8aa_0242ac1c0002row11_col1{\n",
              "            width:  10em;\n",
              "             height:  80%;\n",
              "            background:  linear-gradient(90deg,#d65f5f 2.2%, transparent 2.2%);\n",
              "        }#T_8c3d88f0_334b_11ec_b8aa_0242ac1c0002row12_col0{\n",
              "            width:  10em;\n",
              "             height:  80%;\n",
              "            background:  linear-gradient(90deg,#d65f5f 29.7%, transparent 29.7%);\n",
              "        }#T_8c3d88f0_334b_11ec_b8aa_0242ac1c0002row12_col1{\n",
              "            width:  10em;\n",
              "             height:  80%;\n",
              "            background:  linear-gradient(90deg,#d65f5f 7.8%, transparent 7.8%);\n",
              "        }#T_8c3d88f0_334b_11ec_b8aa_0242ac1c0002row13_col0{\n",
              "            width:  10em;\n",
              "             height:  80%;\n",
              "            background:  linear-gradient(90deg,#d65f5f 27.2%, transparent 27.2%);\n",
              "        }#T_8c3d88f0_334b_11ec_b8aa_0242ac1c0002row13_col1{\n",
              "            width:  10em;\n",
              "             height:  80%;\n",
              "            background:  linear-gradient(90deg,#d65f5f 33.1%, transparent 33.1%);\n",
              "        }#T_8c3d88f0_334b_11ec_b8aa_0242ac1c0002row14_col0{\n",
              "            width:  10em;\n",
              "             height:  80%;\n",
              "            background:  linear-gradient(90deg,#d65f5f 27.1%, transparent 27.1%);\n",
              "        }#T_8c3d88f0_334b_11ec_b8aa_0242ac1c0002row14_col1{\n",
              "            width:  10em;\n",
              "             height:  80%;\n",
              "            background:  linear-gradient(90deg,#d65f5f 3.8%, transparent 3.8%);\n",
              "        }#T_8c3d88f0_334b_11ec_b8aa_0242ac1c0002row15_col0{\n",
              "            width:  10em;\n",
              "             height:  80%;\n",
              "            background:  linear-gradient(90deg,#d65f5f 22.8%, transparent 22.8%);\n",
              "        }#T_8c3d88f0_334b_11ec_b8aa_0242ac1c0002row15_col1{\n",
              "            width:  10em;\n",
              "             height:  80%;\n",
              "            background:  linear-gradient(90deg,#d65f5f 23.3%, transparent 23.3%);\n",
              "        }#T_8c3d88f0_334b_11ec_b8aa_0242ac1c0002row16_col0{\n",
              "            width:  10em;\n",
              "             height:  80%;\n",
              "            background:  linear-gradient(90deg,#d65f5f 22.7%, transparent 22.7%);\n",
              "        }#T_8c3d88f0_334b_11ec_b8aa_0242ac1c0002row16_col1{\n",
              "            width:  10em;\n",
              "             height:  80%;\n",
              "            background:  linear-gradient(90deg,#d65f5f 1.3%, transparent 1.3%);\n",
              "        }#T_8c3d88f0_334b_11ec_b8aa_0242ac1c0002row17_col0{\n",
              "            width:  10em;\n",
              "             height:  80%;\n",
              "            background:  linear-gradient(90deg,#d65f5f 20.7%, transparent 20.7%);\n",
              "        }#T_8c3d88f0_334b_11ec_b8aa_0242ac1c0002row17_col1{\n",
              "            width:  10em;\n",
              "             height:  80%;\n",
              "            background:  linear-gradient(90deg,#d65f5f 7.5%, transparent 7.5%);\n",
              "        }#T_8c3d88f0_334b_11ec_b8aa_0242ac1c0002row18_col0{\n",
              "            width:  10em;\n",
              "             height:  80%;\n",
              "            background:  linear-gradient(90deg,#d65f5f 20.4%, transparent 20.4%);\n",
              "        }#T_8c3d88f0_334b_11ec_b8aa_0242ac1c0002row18_col1{\n",
              "            width:  10em;\n",
              "             height:  80%;\n",
              "            background:  linear-gradient(90deg,#d65f5f 4.9%, transparent 4.9%);\n",
              "        }#T_8c3d88f0_334b_11ec_b8aa_0242ac1c0002row19_col0{\n",
              "            width:  10em;\n",
              "             height:  80%;\n",
              "            background:  linear-gradient(90deg,#d65f5f 20.1%, transparent 20.1%);\n",
              "        }#T_8c3d88f0_334b_11ec_b8aa_0242ac1c0002row19_col1{\n",
              "            width:  10em;\n",
              "             height:  80%;\n",
              "            background:  linear-gradient(90deg,#d65f5f 3.6%, transparent 3.6%);\n",
              "        }#T_8c3d88f0_334b_11ec_b8aa_0242ac1c0002row20_col0{\n",
              "            width:  10em;\n",
              "             height:  80%;\n",
              "            background:  linear-gradient(90deg,#d65f5f 19.2%, transparent 19.2%);\n",
              "        }#T_8c3d88f0_334b_11ec_b8aa_0242ac1c0002row20_col1{\n",
              "            width:  10em;\n",
              "             height:  80%;\n",
              "            background:  linear-gradient(90deg,#d65f5f 20.8%, transparent 20.8%);\n",
              "        }#T_8c3d88f0_334b_11ec_b8aa_0242ac1c0002row21_col0{\n",
              "            width:  10em;\n",
              "             height:  80%;\n",
              "            background:  linear-gradient(90deg,#d65f5f 18.3%, transparent 18.3%);\n",
              "        }#T_8c3d88f0_334b_11ec_b8aa_0242ac1c0002row21_col1{\n",
              "            width:  10em;\n",
              "             height:  80%;\n",
              "            background:  linear-gradient(90deg,#d65f5f 6.0%, transparent 6.0%);\n",
              "        }#T_8c3d88f0_334b_11ec_b8aa_0242ac1c0002row22_col0{\n",
              "            width:  10em;\n",
              "             height:  80%;\n",
              "            background:  linear-gradient(90deg,#d65f5f 15.1%, transparent 15.1%);\n",
              "        }#T_8c3d88f0_334b_11ec_b8aa_0242ac1c0002row22_col1{\n",
              "            width:  10em;\n",
              "             height:  80%;\n",
              "            background:  linear-gradient(90deg,#d65f5f 5.2%, transparent 5.2%);\n",
              "        }#T_8c3d88f0_334b_11ec_b8aa_0242ac1c0002row23_col0{\n",
              "            width:  10em;\n",
              "             height:  80%;\n",
              "            background:  linear-gradient(90deg,#d65f5f 14.2%, transparent 14.2%);\n",
              "        }#T_8c3d88f0_334b_11ec_b8aa_0242ac1c0002row24_col0{\n",
              "            width:  10em;\n",
              "             height:  80%;\n",
              "            background:  linear-gradient(90deg,#d65f5f 13.9%, transparent 13.9%);\n",
              "        }#T_8c3d88f0_334b_11ec_b8aa_0242ac1c0002row24_col1{\n",
              "            width:  10em;\n",
              "             height:  80%;\n",
              "            background:  linear-gradient(90deg,#d65f5f 0.1%, transparent 0.1%);\n",
              "        }#T_8c3d88f0_334b_11ec_b8aa_0242ac1c0002row25_col0{\n",
              "            width:  10em;\n",
              "             height:  80%;\n",
              "            background:  linear-gradient(90deg,#d65f5f 12.8%, transparent 12.8%);\n",
              "        }#T_8c3d88f0_334b_11ec_b8aa_0242ac1c0002row25_col1{\n",
              "            width:  10em;\n",
              "             height:  80%;\n",
              "            background:  linear-gradient(90deg,#d65f5f 0.4%, transparent 0.4%);\n",
              "        }#T_8c3d88f0_334b_11ec_b8aa_0242ac1c0002row26_col0{\n",
              "            width:  10em;\n",
              "             height:  80%;\n",
              "            background:  linear-gradient(90deg,#d65f5f 12.6%, transparent 12.6%);\n",
              "        }#T_8c3d88f0_334b_11ec_b8aa_0242ac1c0002row26_col1{\n",
              "            width:  10em;\n",
              "             height:  80%;\n",
              "            background:  linear-gradient(90deg,#d65f5f 4.7%, transparent 4.7%);\n",
              "        }#T_8c3d88f0_334b_11ec_b8aa_0242ac1c0002row27_col0{\n",
              "            width:  10em;\n",
              "             height:  80%;\n",
              "            background:  linear-gradient(90deg,#d65f5f 12.3%, transparent 12.3%);\n",
              "        }#T_8c3d88f0_334b_11ec_b8aa_0242ac1c0002row27_col1{\n",
              "            width:  10em;\n",
              "             height:  80%;\n",
              "            background:  linear-gradient(90deg,#d65f5f 3.1%, transparent 3.1%);\n",
              "        }#T_8c3d88f0_334b_11ec_b8aa_0242ac1c0002row28_col0{\n",
              "            width:  10em;\n",
              "             height:  80%;\n",
              "            background:  linear-gradient(90deg,#d65f5f 11.6%, transparent 11.6%);\n",
              "        }#T_8c3d88f0_334b_11ec_b8aa_0242ac1c0002row28_col1{\n",
              "            width:  10em;\n",
              "             height:  80%;\n",
              "            background:  linear-gradient(90deg,#d65f5f 58.0%, transparent 58.0%);\n",
              "        }#T_8c3d88f0_334b_11ec_b8aa_0242ac1c0002row29_col0{\n",
              "            width:  10em;\n",
              "             height:  80%;\n",
              "            background:  linear-gradient(90deg,#d65f5f 9.9%, transparent 9.9%);\n",
              "        }#T_8c3d88f0_334b_11ec_b8aa_0242ac1c0002row29_col1{\n",
              "            width:  10em;\n",
              "             height:  80%;\n",
              "            background:  linear-gradient(90deg,#d65f5f 1.6%, transparent 1.6%);\n",
              "        }</style><table id=\"T_8c3d88f0_334b_11ec_b8aa_0242ac1c0002\" ><thead>    <tr>        <th class=\"blank\" ></th>        <th class=\"blank level0\" ></th>        <th class=\"col_heading level0 col0\" >total</th>        <th class=\"col_heading level0 col1\" >Quantity</th>    </tr>    <tr>        <th class=\"index_name level0\" >CustomerID</th>        <th class=\"index_name level1\" >Country</th>        <th class=\"blank\" ></th>        <th class=\"blank\" ></th>    </tr></thead><tbody>\n",
              "                <tr>\n",
              "                        <th id=\"T_8c3d88f0_334b_11ec_b8aa_0242ac1c0002level0_row0\" class=\"row_heading level0 row0\" >17450.0</th>\n",
              "                        <th id=\"T_8c3d88f0_334b_11ec_b8aa_0242ac1c0002level1_row0\" class=\"row_heading level1 row0\" >United Kingdom</th>\n",
              "                        <td id=\"T_8c3d88f0_334b_11ec_b8aa_0242ac1c0002row0_col0\" class=\"data row0 col0\" >27766.740000</td>\n",
              "                        <td id=\"T_8c3d88f0_334b_11ec_b8aa_0242ac1c0002row0_col1\" class=\"data row0 col1\" >42</td>\n",
              "            </tr>\n",
              "            <tr>\n",
              "                        <th id=\"T_8c3d88f0_334b_11ec_b8aa_0242ac1c0002level0_row1\" class=\"row_heading level0 row1\" >18102.0</th>\n",
              "                        <th id=\"T_8c3d88f0_334b_11ec_b8aa_0242ac1c0002level1_row1\" class=\"row_heading level1 row1\" >United Kingdom</th>\n",
              "                        <td id=\"T_8c3d88f0_334b_11ec_b8aa_0242ac1c0002row1_col0\" class=\"data row1 col0\" >26533.440000</td>\n",
              "                        <td id=\"T_8c3d88f0_334b_11ec_b8aa_0242ac1c0002row1_col1\" class=\"data row1 col1\" >43</td>\n",
              "            </tr>\n",
              "            <tr>\n",
              "                        <th id=\"T_8c3d88f0_334b_11ec_b8aa_0242ac1c0002level0_row2\" class=\"row_heading level0 row2\" >14646.0</th>\n",
              "                        <th id=\"T_8c3d88f0_334b_11ec_b8aa_0242ac1c0002level1_row2\" class=\"row_heading level1 row2\" >Netherlands</th>\n",
              "                        <td id=\"T_8c3d88f0_334b_11ec_b8aa_0242ac1c0002row2_col0\" class=\"data row2 col0\" >25725.560000</td>\n",
              "                        <td id=\"T_8c3d88f0_334b_11ec_b8aa_0242ac1c0002row2_col1\" class=\"data row2 col1\" >195</td>\n",
              "            </tr>\n",
              "            <tr>\n",
              "                        <th id=\"T_8c3d88f0_334b_11ec_b8aa_0242ac1c0002level0_row3\" class=\"row_heading level0 row3\" >16029.0</th>\n",
              "                        <th id=\"T_8c3d88f0_334b_11ec_b8aa_0242ac1c0002level1_row3\" class=\"row_heading level1 row3\" >United Kingdom</th>\n",
              "                        <td id=\"T_8c3d88f0_334b_11ec_b8aa_0242ac1c0002row3_col0\" class=\"data row3 col0\" >16342.280000</td>\n",
              "                        <td id=\"T_8c3d88f0_334b_11ec_b8aa_0242ac1c0002row3_col1\" class=\"data row3 col1\" >27</td>\n",
              "            </tr>\n",
              "            <tr>\n",
              "                        <th id=\"T_8c3d88f0_334b_11ec_b8aa_0242ac1c0002level0_row4\" class=\"row_heading level0 row4\" >12415.0</th>\n",
              "                        <th id=\"T_8c3d88f0_334b_11ec_b8aa_0242ac1c0002level1_row4\" class=\"row_heading level1 row4\" >Australia</th>\n",
              "                        <td id=\"T_8c3d88f0_334b_11ec_b8aa_0242ac1c0002row4_col0\" class=\"data row4 col0\" >16174.970000</td>\n",
              "                        <td id=\"T_8c3d88f0_334b_11ec_b8aa_0242ac1c0002row4_col1\" class=\"data row4 col1\" >86</td>\n",
              "            </tr>\n",
              "            <tr>\n",
              "                        <th id=\"T_8c3d88f0_334b_11ec_b8aa_0242ac1c0002level0_row5\" class=\"row_heading level0 row5\" >14911.0</th>\n",
              "                        <th id=\"T_8c3d88f0_334b_11ec_b8aa_0242ac1c0002level1_row5\" class=\"row_heading level1 row5\" >EIRE</th>\n",
              "                        <td id=\"T_8c3d88f0_334b_11ec_b8aa_0242ac1c0002row5_col0\" class=\"data row5 col0\" >15802.270000</td>\n",
              "                        <td id=\"T_8c3d88f0_334b_11ec_b8aa_0242ac1c0002row5_col1\" class=\"data row5 col1\" >563</td>\n",
              "            </tr>\n",
              "            <tr>\n",
              "                        <th id=\"T_8c3d88f0_334b_11ec_b8aa_0242ac1c0002level0_row6\" class=\"row_heading level0 row6\" >14156.0</th>\n",
              "                        <th id=\"T_8c3d88f0_334b_11ec_b8aa_0242ac1c0002level1_row6\" class=\"row_heading level1 row6\" >EIRE</th>\n",
              "                        <td id=\"T_8c3d88f0_334b_11ec_b8aa_0242ac1c0002row6_col0\" class=\"data row6 col0\" >12409.510000</td>\n",
              "                        <td id=\"T_8c3d88f0_334b_11ec_b8aa_0242ac1c0002row6_col1\" class=\"data row6 col1\" >143</td>\n",
              "            </tr>\n",
              "            <tr>\n",
              "                        <th id=\"T_8c3d88f0_334b_11ec_b8aa_0242ac1c0002level0_row7\" class=\"row_heading level0 row7\" >17949.0</th>\n",
              "                        <th id=\"T_8c3d88f0_334b_11ec_b8aa_0242ac1c0002level1_row7\" class=\"row_heading level1 row7\" >United Kingdom</th>\n",
              "                        <td id=\"T_8c3d88f0_334b_11ec_b8aa_0242ac1c0002row7_col0\" class=\"data row7 col0\" >12048.080000</td>\n",
              "                        <td id=\"T_8c3d88f0_334b_11ec_b8aa_0242ac1c0002row7_col1\" class=\"data row7 col1\" >8</td>\n",
              "            </tr>\n",
              "            <tr>\n",
              "                        <th id=\"T_8c3d88f0_334b_11ec_b8aa_0242ac1c0002level0_row8\" class=\"row_heading level0 row8\" >12931.0</th>\n",
              "                        <th id=\"T_8c3d88f0_334b_11ec_b8aa_0242ac1c0002level1_row8\" class=\"row_heading level1 row8\" >United Kingdom</th>\n",
              "                        <td id=\"T_8c3d88f0_334b_11ec_b8aa_0242ac1c0002row8_col0\" class=\"data row8 col0\" >10552.200000</td>\n",
              "                        <td id=\"T_8c3d88f0_334b_11ec_b8aa_0242ac1c0002row8_col1\" class=\"data row8 col1\" >16</td>\n",
              "            </tr>\n",
              "            <tr>\n",
              "                        <th id=\"T_8c3d88f0_334b_11ec_b8aa_0242ac1c0002level0_row9\" class=\"row_heading level0 row9\" >17511.0</th>\n",
              "                        <th id=\"T_8c3d88f0_334b_11ec_b8aa_0242ac1c0002level1_row9\" class=\"row_heading level1 row9\" >United Kingdom</th>\n",
              "                        <td id=\"T_8c3d88f0_334b_11ec_b8aa_0242ac1c0002row9_col0\" class=\"data row9 col0\" >10107.390000</td>\n",
              "                        <td id=\"T_8c3d88f0_334b_11ec_b8aa_0242ac1c0002row9_col1\" class=\"data row9 col1\" >115</td>\n",
              "            </tr>\n",
              "            <tr>\n",
              "                        <th id=\"T_8c3d88f0_334b_11ec_b8aa_0242ac1c0002level0_row10\" class=\"row_heading level0 row10\" >14096.0</th>\n",
              "                        <th id=\"T_8c3d88f0_334b_11ec_b8aa_0242ac1c0002level1_row10\" class=\"row_heading level1 row10\" >United Kingdom</th>\n",
              "                        <td id=\"T_8c3d88f0_334b_11ec_b8aa_0242ac1c0002row10_col0\" class=\"data row10 col0\" >9000.610000</td>\n",
              "                        <td id=\"T_8c3d88f0_334b_11ec_b8aa_0242ac1c0002row10_col1\" class=\"data row10 col1\" >546</td>\n",
              "            </tr>\n",
              "            <tr>\n",
              "                        <th id=\"T_8c3d88f0_334b_11ec_b8aa_0242ac1c0002level0_row11\" class=\"row_heading level0 row11\" >15769.0</th>\n",
              "                        <th id=\"T_8c3d88f0_334b_11ec_b8aa_0242ac1c0002level1_row11\" class=\"row_heading level1 row11\" >United Kingdom</th>\n",
              "                        <td id=\"T_8c3d88f0_334b_11ec_b8aa_0242ac1c0002row11_col0\" class=\"data row11 col0\" >8343.840000</td>\n",
              "                        <td id=\"T_8c3d88f0_334b_11ec_b8aa_0242ac1c0002row11_col1\" class=\"data row11 col1\" >17</td>\n",
              "            </tr>\n",
              "            <tr>\n",
              "                        <th id=\"T_8c3d88f0_334b_11ec_b8aa_0242ac1c0002level0_row12\" class=\"row_heading level0 row12\" >13694.0</th>\n",
              "                        <th id=\"T_8c3d88f0_334b_11ec_b8aa_0242ac1c0002level1_row12\" class=\"row_heading level1 row12\" >United Kingdom</th>\n",
              "                        <td id=\"T_8c3d88f0_334b_11ec_b8aa_0242ac1c0002row12_col0\" class=\"data row12 col0\" >8243.570000</td>\n",
              "                        <td id=\"T_8c3d88f0_334b_11ec_b8aa_0242ac1c0002row12_col1\" class=\"data row12 col1\" >60</td>\n",
              "            </tr>\n",
              "            <tr>\n",
              "                        <th id=\"T_8c3d88f0_334b_11ec_b8aa_0242ac1c0002level0_row13\" class=\"row_heading level0 row13\" >15311.0</th>\n",
              "                        <th id=\"T_8c3d88f0_334b_11ec_b8aa_0242ac1c0002level1_row13\" class=\"row_heading level1 row13\" >United Kingdom</th>\n",
              "                        <td id=\"T_8c3d88f0_334b_11ec_b8aa_0242ac1c0002row13_col0\" class=\"data row13 col0\" >7564.720000</td>\n",
              "                        <td id=\"T_8c3d88f0_334b_11ec_b8aa_0242ac1c0002row13_col1\" class=\"data row13 col1\" >255</td>\n",
              "            </tr>\n",
              "            <tr>\n",
              "                        <th id=\"T_8c3d88f0_334b_11ec_b8aa_0242ac1c0002level0_row14\" class=\"row_heading level0 row14\" >16684.0</th>\n",
              "                        <th id=\"T_8c3d88f0_334b_11ec_b8aa_0242ac1c0002level1_row14\" class=\"row_heading level1 row14\" >United Kingdom</th>\n",
              "                        <td id=\"T_8c3d88f0_334b_11ec_b8aa_0242ac1c0002row14_col0\" class=\"data row14 col0\" >7512.920000</td>\n",
              "                        <td id=\"T_8c3d88f0_334b_11ec_b8aa_0242ac1c0002row14_col1\" class=\"data row14 col1\" >29</td>\n",
              "            </tr>\n",
              "            <tr>\n",
              "                        <th id=\"T_8c3d88f0_334b_11ec_b8aa_0242ac1c0002level0_row15\" class=\"row_heading level0 row15\" >13089.0</th>\n",
              "                        <th id=\"T_8c3d88f0_334b_11ec_b8aa_0242ac1c0002level1_row15\" class=\"row_heading level1 row15\" >United Kingdom</th>\n",
              "                        <td id=\"T_8c3d88f0_334b_11ec_b8aa_0242ac1c0002row15_col0\" class=\"data row15 col0\" >6318.390000</td>\n",
              "                        <td id=\"T_8c3d88f0_334b_11ec_b8aa_0242ac1c0002row15_col1\" class=\"data row15 col1\" >180</td>\n",
              "            </tr>\n",
              "            <tr>\n",
              "                        <th id=\"T_8c3d88f0_334b_11ec_b8aa_0242ac1c0002level0_row16\" class=\"row_heading level0 row16\" >17857.0</th>\n",
              "                        <th id=\"T_8c3d88f0_334b_11ec_b8aa_0242ac1c0002level1_row16\" class=\"row_heading level1 row16\" >United Kingdom</th>\n",
              "                        <td id=\"T_8c3d88f0_334b_11ec_b8aa_0242ac1c0002row16_col0\" class=\"data row16 col0\" >6302.700000</td>\n",
              "                        <td id=\"T_8c3d88f0_334b_11ec_b8aa_0242ac1c0002row16_col1\" class=\"data row16 col1\" >10</td>\n",
              "            </tr>\n",
              "            <tr>\n",
              "                        <th id=\"T_8c3d88f0_334b_11ec_b8aa_0242ac1c0002level0_row17\" class=\"row_heading level0 row17\" >14088.0</th>\n",
              "                        <th id=\"T_8c3d88f0_334b_11ec_b8aa_0242ac1c0002level1_row17\" class=\"row_heading level1 row17\" >United Kingdom</th>\n",
              "                        <td id=\"T_8c3d88f0_334b_11ec_b8aa_0242ac1c0002row17_col0\" class=\"data row17 col0\" >5737.280000</td>\n",
              "                        <td id=\"T_8c3d88f0_334b_11ec_b8aa_0242ac1c0002row17_col1\" class=\"data row17 col1\" >58</td>\n",
              "            </tr>\n",
              "            <tr>\n",
              "                        <th id=\"T_8c3d88f0_334b_11ec_b8aa_0242ac1c0002level0_row18\" class=\"row_heading level0 row18\" >15061.0</th>\n",
              "                        <th id=\"T_8c3d88f0_334b_11ec_b8aa_0242ac1c0002level1_row18\" class=\"row_heading level1 row18\" >United Kingdom</th>\n",
              "                        <td id=\"T_8c3d88f0_334b_11ec_b8aa_0242ac1c0002row18_col0\" class=\"data row18 col0\" >5652.120000</td>\n",
              "                        <td id=\"T_8c3d88f0_334b_11ec_b8aa_0242ac1c0002row18_col1\" class=\"data row18 col1\" >38</td>\n",
              "            </tr>\n",
              "            <tr>\n",
              "                        <th id=\"T_8c3d88f0_334b_11ec_b8aa_0242ac1c0002level0_row19\" class=\"row_heading level0 row19\" >17404.0</th>\n",
              "                        <th id=\"T_8c3d88f0_334b_11ec_b8aa_0242ac1c0002level1_row19\" class=\"row_heading level1 row19\" >Sweden</th>\n",
              "                        <td id=\"T_8c3d88f0_334b_11ec_b8aa_0242ac1c0002row19_col0\" class=\"data row19 col0\" >5586.700000</td>\n",
              "                        <td id=\"T_8c3d88f0_334b_11ec_b8aa_0242ac1c0002row19_col1\" class=\"data row19 col1\" >28</td>\n",
              "            </tr>\n",
              "            <tr>\n",
              "                        <th id=\"T_8c3d88f0_334b_11ec_b8aa_0242ac1c0002level0_row20\" class=\"row_heading level0 row20\" >14298.0</th>\n",
              "                        <th id=\"T_8c3d88f0_334b_11ec_b8aa_0242ac1c0002level1_row20\" class=\"row_heading level1 row20\" >United Kingdom</th>\n",
              "                        <td id=\"T_8c3d88f0_334b_11ec_b8aa_0242ac1c0002row20_col0\" class=\"data row20 col0\" >5343.620000</td>\n",
              "                        <td id=\"T_8c3d88f0_334b_11ec_b8aa_0242ac1c0002row20_col1\" class=\"data row20 col1\" >160</td>\n",
              "            </tr>\n",
              "            <tr>\n",
              "                        <th id=\"T_8c3d88f0_334b_11ec_b8aa_0242ac1c0002level0_row21\" class=\"row_heading level0 row21\" >16422.0</th>\n",
              "                        <th id=\"T_8c3d88f0_334b_11ec_b8aa_0242ac1c0002level1_row21\" class=\"row_heading level1 row21\" >United Kingdom</th>\n",
              "                        <td id=\"T_8c3d88f0_334b_11ec_b8aa_0242ac1c0002row21_col0\" class=\"data row21 col0\" >5093.830000</td>\n",
              "                        <td id=\"T_8c3d88f0_334b_11ec_b8aa_0242ac1c0002row21_col1\" class=\"data row21 col1\" >46</td>\n",
              "            </tr>\n",
              "            <tr>\n",
              "                        <th id=\"T_8c3d88f0_334b_11ec_b8aa_0242ac1c0002level0_row22\" class=\"row_heading level0 row22\" >13798.0</th>\n",
              "                        <th id=\"T_8c3d88f0_334b_11ec_b8aa_0242ac1c0002level1_row22\" class=\"row_heading level1 row22\" >United Kingdom</th>\n",
              "                        <td id=\"T_8c3d88f0_334b_11ec_b8aa_0242ac1c0002row22_col0\" class=\"data row22 col0\" >4181.460000</td>\n",
              "                        <td id=\"T_8c3d88f0_334b_11ec_b8aa_0242ac1c0002row22_col1\" class=\"data row22 col1\" >40</td>\n",
              "            </tr>\n",
              "            <tr>\n",
              "                        <th id=\"T_8c3d88f0_334b_11ec_b8aa_0242ac1c0002level0_row23\" class=\"row_heading level0 row23\" >17841.0</th>\n",
              "                        <th id=\"T_8c3d88f0_334b_11ec_b8aa_0242ac1c0002level1_row23\" class=\"row_heading level1 row23\" >United Kingdom</th>\n",
              "                        <td id=\"T_8c3d88f0_334b_11ec_b8aa_0242ac1c0002row23_col0\" class=\"data row23 col0\" >3952.320000</td>\n",
              "                        <td id=\"T_8c3d88f0_334b_11ec_b8aa_0242ac1c0002row23_col1\" class=\"data row23 col1\" >771</td>\n",
              "            </tr>\n",
              "            <tr>\n",
              "                        <th id=\"T_8c3d88f0_334b_11ec_b8aa_0242ac1c0002level0_row24\" class=\"row_heading level0 row24\" >15195.0</th>\n",
              "                        <th id=\"T_8c3d88f0_334b_11ec_b8aa_0242ac1c0002level1_row24\" class=\"row_heading level1 row24\" >United Kingdom</th>\n",
              "                        <td id=\"T_8c3d88f0_334b_11ec_b8aa_0242ac1c0002row24_col0\" class=\"data row24 col0\" >3861.000000</td>\n",
              "                        <td id=\"T_8c3d88f0_334b_11ec_b8aa_0242ac1c0002row24_col1\" class=\"data row24 col1\" >1</td>\n",
              "            </tr>\n",
              "            <tr>\n",
              "                        <th id=\"T_8c3d88f0_334b_11ec_b8aa_0242ac1c0002level0_row25\" class=\"row_heading level0 row25\" >16333.0</th>\n",
              "                        <th id=\"T_8c3d88f0_334b_11ec_b8aa_0242ac1c0002level1_row25\" class=\"row_heading level1 row25\" >United Kingdom</th>\n",
              "                        <td id=\"T_8c3d88f0_334b_11ec_b8aa_0242ac1c0002row25_col0\" class=\"data row25 col0\" >3545.200000</td>\n",
              "                        <td id=\"T_8c3d88f0_334b_11ec_b8aa_0242ac1c0002row25_col1\" class=\"data row25 col1\" >3</td>\n",
              "            </tr>\n",
              "            <tr>\n",
              "                        <th id=\"T_8c3d88f0_334b_11ec_b8aa_0242ac1c0002level0_row26\" class=\"row_heading level0 row26\" >14680.0</th>\n",
              "                        <th id=\"T_8c3d88f0_334b_11ec_b8aa_0242ac1c0002level1_row26\" class=\"row_heading level1 row26\" >United Kingdom</th>\n",
              "                        <td id=\"T_8c3d88f0_334b_11ec_b8aa_0242ac1c0002row26_col0\" class=\"data row26 col0\" >3486.990000</td>\n",
              "                        <td id=\"T_8c3d88f0_334b_11ec_b8aa_0242ac1c0002row26_col1\" class=\"data row26 col1\" >36</td>\n",
              "            </tr>\n",
              "            <tr>\n",
              "                        <th id=\"T_8c3d88f0_334b_11ec_b8aa_0242ac1c0002level0_row27\" class=\"row_heading level0 row27\" >17389.0</th>\n",
              "                        <th id=\"T_8c3d88f0_334b_11ec_b8aa_0242ac1c0002level1_row27\" class=\"row_heading level1 row27\" >United Kingdom</th>\n",
              "                        <td id=\"T_8c3d88f0_334b_11ec_b8aa_0242ac1c0002row27_col0\" class=\"data row27 col0\" >3424.860000</td>\n",
              "                        <td id=\"T_8c3d88f0_334b_11ec_b8aa_0242ac1c0002row27_col1\" class=\"data row27 col1\" >24</td>\n",
              "            </tr>\n",
              "            <tr>\n",
              "                        <th id=\"T_8c3d88f0_334b_11ec_b8aa_0242ac1c0002level0_row28\" class=\"row_heading level0 row28\" >12748.0</th>\n",
              "                        <th id=\"T_8c3d88f0_334b_11ec_b8aa_0242ac1c0002level1_row28\" class=\"row_heading level1 row28\" >United Kingdom</th>\n",
              "                        <td id=\"T_8c3d88f0_334b_11ec_b8aa_0242ac1c0002row28_col0\" class=\"data row28 col0\" >3226.790000</td>\n",
              "                        <td id=\"T_8c3d88f0_334b_11ec_b8aa_0242ac1c0002row28_col1\" class=\"data row28 col1\" >447</td>\n",
              "            </tr>\n",
              "            <tr>\n",
              "                        <th id=\"T_8c3d88f0_334b_11ec_b8aa_0242ac1c0002level0_row29\" class=\"row_heading level0 row29\" >16013.0</th>\n",
              "                        <th id=\"T_8c3d88f0_334b_11ec_b8aa_0242ac1c0002level1_row29\" class=\"row_heading level1 row29\" >United Kingdom</th>\n",
              "                        <td id=\"T_8c3d88f0_334b_11ec_b8aa_0242ac1c0002row29_col0\" class=\"data row29 col0\" >2753.500000</td>\n",
              "                        <td id=\"T_8c3d88f0_334b_11ec_b8aa_0242ac1c0002row29_col1\" class=\"data row29 col1\" >12</td>\n",
              "            </tr>\n",
              "    </tbody></table>"
            ],
            "text/plain": [
              "<pandas.io.formats.style.Styler at 0x7fb08c97e810>"
            ]
          },
          "metadata": {},
          "execution_count": 82
        }
      ]
    },
    {
      "cell_type": "markdown",
      "metadata": {
        "id": "OQdKLETteXEM"
      },
      "source": [
        "*Как видно из полученной таблицы, основное количество активных клиентов приходится на Великобританию.  Можно заметить, что практически весь объем выручки в Нидерландах и Австралии приходится на одного клиента в каждом регионе. В Ирландии также практически весь объем делают два клиента.*\n"
      ]
    },
    {
      "cell_type": "code",
      "metadata": {
        "colab": {
          "base_uri": "https://localhost:8080/",
          "height": 353
        },
        "id": "4cNH4RIh2QxB",
        "outputId": "d2648375-225f-4dcd-fdd3-61564ddef488"
      },
      "source": [
        "# ещё раз более прицельно посмотрим, какие страны (помимо United Kingdom) приносят максимальную выручку\n",
        "df_without_UK = df_new.loc[df_new['Country']!='United Kingdom']\n",
        "\n",
        "df_analysis5 = df_without_UK.groupby('Country').sum()['total'].sort_values(ascending = False).head(5)\n",
        "\n",
        "df_analysis5.plot(kind='barh', title='Топ-5 зарубежных стран по выручке')"
      ],
      "execution_count": null,
      "outputs": [
        {
          "output_type": "execute_result",
          "data": {
            "text/plain": [
              "<matplotlib.axes._subplots.AxesSubplot at 0x7fb09dadb910>"
            ]
          },
          "metadata": {},
          "execution_count": 99
        },
        {
          "output_type": "display_data",
          "data": {
            "image/png": "[encoded data removed]",
            "text/plain": [
              "<Figure size 792x360 with 1 Axes>"
            ]
          },
          "metadata": {
            "needs_background": "light"
          }
        }
      ]
    },
    {
      "cell_type": "code",
      "metadata": {
        "colab": {
          "base_uri": "https://localhost:8080/",
          "height": 353
        },
        "id": "7ACk7CE7gK3J",
        "outputId": "a9b4458a-2b81-4f98-9992-3cbf1e0083ec"
      },
      "source": [
        "# выведем, какие страны приносят минимальную выручку\n",
        "df_analysis6 = df_without_UK.groupby('Country').sum()['total'].sort_values(ascending = True).head(5)\n",
        "\n",
        "df_analysis6.plot(kind='barh', title='Топ-15 зарубежных стран по минимальной выручке')\n"
      ],
      "execution_count": null,
      "outputs": [
        {
          "output_type": "execute_result",
          "data": {
            "text/plain": [
              "<matplotlib.axes._subplots.AxesSubplot at 0x7fb09db3f310>"
            ]
          },
          "metadata": {},
          "execution_count": 101
        },
        {
          "output_type": "display_data",
          "data": {
            "image/png": "[encoded data removed]",
            "text/plain": [
              "<Figure size 792x360 with 1 Axes>"
            ]
          },
          "metadata": {
            "needs_background": "light"
          }
        }
      ]
    },
    {
      "cell_type": "code",
      "metadata": {
        "colab": {
          "base_uri": "https://localhost:8080/"
        },
        "id": "T5FQcHdW8h5c",
        "outputId": "aab2f859-6f3a-457e-892e-b6ecc944a29d"
      },
      "source": [
        "# оценим внутренний рынок, выведем самые популярные товары на внутреннем рынке\n",
        "df_UK = df_new.loc[df_new['Country']=='United Kingdom']\n",
        "\n",
        "df_analysis7 = df_UK.groupby(['Description']).sum()['Quantity'].sort_values(ascending = False).head(5)\n",
        "df_analysis7"
      ],
      "execution_count": null,
      "outputs": [
        {
          "output_type": "execute_result",
          "data": {
            "text/plain": [
              "Description\n",
              "ASSORTED COLOUR BIRD ORNAMENT        4376\n",
              "JUMBO BAG RED RETROSPOT              4268\n",
              "ASSORTED COLOURS SILK FAN            4065\n",
              "WORLD WAR 2 GLIDERS ASSTD DESIGNS    3940\n",
              "RED  HARMONICA IN BOX                3570\n",
              "Name: Quantity, dtype: int64"
            ]
          },
          "metadata": {},
          "execution_count": 88
        }
      ]
    },
    {
      "cell_type": "code",
      "metadata": {
        "colab": {
          "base_uri": "https://localhost:8080/"
        },
        "id": "QsnIITsM_dS7",
        "outputId": "73cbe037-d44a-4894-83d0-9c2f651970e0"
      },
      "source": [
        "# выясним, какие товары самые популярные на внешнем рынке\n",
        "df_analysis8 = df_without_UK.groupby(['Description']).sum()['Quantity'].sort_values(ascending = False).head(5)\n",
        "df_analysis8\n"
      ],
      "execution_count": null,
      "outputs": [
        {
          "output_type": "execute_result",
          "data": {
            "text/plain": [
              "Description\n",
              "PACK OF 72 RETROSPOT CAKE CASES        2448\n",
              "GINGHAM HEART DECORATION               1752\n",
              "MINI PAINT SET VINTAGE                 1585\n",
              "DOLLY GIRL LUNCH BOX                   1241\n",
              "SET OF 60 PANTRY DESIGN CAKE CASES      913\n",
              "Name: Quantity, dtype: int64"
            ]
          },
          "metadata": {},
          "execution_count": 98
        }
      ]
    },
    {
      "cell_type": "markdown",
      "metadata": {
        "id": "VpR4AXP0jwyi"
      },
      "source": [
        "*По полученным данным видно, что на внутреннем и внешним рынках лидерами продаж являются разные товары*"
      ]
    },
    {
      "cell_type": "markdown",
      "metadata": {
        "id": "ndTTRxU835v5"
      },
      "source": [
        "## **Теоретическая** **часть**"
      ]
    },
    {
      "cell_type": "markdown",
      "metadata": {
        "id": "QGEhHTZ6Kd80"
      },
      "source": [
        "Целью бизнес-заказчика является увеличение прибыли за счет увеличения продаж как на внутреннем рынке, так и на внешнем. \n",
        "Гипотетическими болями заказчика могут быть большие издержки на доставку товара и, как следствие, снижение прибыли, а также сложность удержания постоянных клиентов и привлечения достаточного количества новых.\n",
        "Возможными решениями могут стать следующие действия:\n",
        "- при работе с  постоянными клиентами продумать систему удержания, проверить гипотезы виральности\n",
        "- для привлечения новых клиентов использовать различные маркетинговые инструменты. Для этого предварительно оценить рекламный рынок в разных регионах и т.о. спланировать бюджет рекламной кампании и его возможную эффективность. Также можно оценить конкуренцию по разным регионам (количество запросов) и в каком регионе какой продукт больше востребован, что можно использовать при разработке стратегии продвижения продукта.\n",
        "- для привлечения клиентов и их удержания можно улучшить продукт\n",
        "- для увеличения объема выручки можно увеличить географию сбыта товара\n"
      ]
    },
    {
      "cell_type": "markdown",
      "metadata": {
        "id": "hPKKhlJuOPwb"
      },
      "source": [
        "Стейкхолдерами для представленного интернет-магазина являются:\n",
        "- инвесторы и собственник, которые участвуют в принятии стратегических решений, согласовывают бюджет и соответственно влияют на прибыль \n",
        "- поставщики, которые влияют на стоимость сырья, сроки и условия постивки, что напрямую связана с издержками компании и удовлетворенностью клиента\n",
        "- потребители, которые выдвигают определенные требования к качеству товара, соответственно влияют на себестоимость и издержки\n",
        "- сотрудники компании (аналитики, маркетологи, логистика), от деятельности которых зависит качество предоставляемых услуг, удовлетворенность клиента, качество оценки развития компании и эффективность выбранных маркетинговых инструментов\n"
      ]
    },
    {
      "cell_type": "markdown",
      "metadata": {
        "id": "_BenNtSvPkPZ"
      },
      "source": [
        "Центральной метрикой для данного интернет-магазина является ПРИБЫЛЬ, которая равна:\n",
        "\n",
        "ПРИБЫЛЬ = ВЫРУЧКА- РАСХОДЫ\n",
        "\n",
        "Поскольку это интернет-магазин, в РАСХОДАХ немалую долю занимают расходы на маркетинг, соответственно, используем метрики ROMI, чтобы понять, сколько заработает заказчик, вложив 1 денежную единицу в маркетинг и CARC для оценки эффективности.\n",
        "Метриками роста количества клиентов могут быть MAU, КОЛИЧЕСТВО ЗАКАЗОВ, ARPPU.\n",
        "Можно использовать LTV по различным сегментам, т.о. оценить зависимость покупальтельской активности от того, к какому сегменту он относится.\n",
        "Важными метриками являются также RETENTION RATE и СРЕДНИЙ ЧЕК.\n",
        "Также нужно использовать UNIT экономику для выявления узких мест, чтобы понять, что в большей степени влияет на выручку и при необходимости попытаться скорректировать ситуацию.\n",
        "Поскольку товар доставляется по всему миру очень важной метрикой является ЗАТРАТЫ НА ЛОГИСТИКУ.\n"
      ]
    },
    {
      "cell_type": "markdown",
      "metadata": {
        "id": "qNcBglcyyJAl"
      },
      "source": [
        "В дополнении к представленным данным в датасете, можно было бы добавить:\n",
        "- данные о покупателях (их возраст, пол и др. информация), чтобы лучше понимать, кто наш потребитель, на кого ориентировать рекламу, спец. предложения и т.д., а также для более глубокого анализа данных\n",
        "- дать общее название группе товаров (группировка товаров поможет оценить востребованность определенной группы товаров в определенном регионе и в определенный сезон)\n",
        "- данные по возвратам, чтобы правильно оценивать выручку\n",
        "\n"
      ]
    },
    {
      "cell_type": "markdown",
      "metadata": {
        "id": "bTNnWzCJ1McQ"
      },
      "source": [
        "Исследование представленных данных  показало:\n",
        "- регионом, создающим основную выручку и делающих большее количество заказов, является Великобритания\n",
        "- если оценивать выручку за тринадцать месяцев, то нет ярко выраженной тенденции, однако, нужно отметить, что осенью была максимальная выручка\n",
        "- большинство активных клиентов живет в Великобритании\n",
        "- самую большую выручку на внешнем рынке создают Ирландия, Нидерланды, Германия, Франция и Австралия\n",
        "- самые большие продажи в других странах за представленный период времени обеспечиваются за счет 1-2 клиентов\n",
        "- на внешнем и внутреннем рынках разные товары вызывают максимальный спрос\n",
        "- в анализе также представлены 5 стран, приносящих минимальную выручку. Это Бахрейн, Ливан, Южная Африка, European Community"
      ]
    },
    {
      "cell_type": "markdown",
      "metadata": {
        "id": "XvtzTcx0sQc9"
      },
      "source": [
        "Выводы и рекомендации:\n",
        "- по представленным данным основной объем продаж делают небольшое количество клиентов, они часто заказывают, значит, их всё устраивает и они довольны. Можно проверить различные гипотезы по привлечению новых клиентов по рекомендации от самых активных. Полезными будут положительные отзывы с фото и видео как о товарах, так и о самом магазине\n",
        "- судя по данным, во многих странах очень маленькая выручка. Нужно еще раз оценить целесообразность продажи товаров в эти регионы, оправдано ли, окупаются ли расходы на рекламу и логистику. Возможно, стоит сконцентрироваться на странах, где имеется хороший спрос. Либо же нужно провести тщательный анализ рынка и маркетинговых инструментов для стран с маленькой выручкой. Возможно, выбрали неподходящие каналы продвижения, возможно продаваемые товары мало интересны потребителям либо их внутренний рынок насыщен подобными предложениями и нет никакого смысла заказывать их из другой страны\n"
      ]
    }
  ]
}